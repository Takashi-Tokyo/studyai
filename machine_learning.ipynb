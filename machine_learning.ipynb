{
 "cells": [
  {
   "cell_type": "markdown",
   "id": "83e57727",
   "metadata": {},
   "source": [
    "# ラビットチャレンジ/科目「機械学習」/「線形回帰モデル」  \n",
    "\n",
    "## 100文字以上で要点のまとめ  \n",
    "\n",
    "・回帰問題を解くための機械学習モデルの一つ  \n",
    "　回帰問題とは、ある入力（離散or連続）から出力（連続値）を予測する問題である。線形回帰は直線で予測する。  \n",
    "・教師あり学習  \n",
    "　人間があらかじめ容易した正解データをもとにモデルを構築  \n",
    "・入力と$m$次元パラメータの線形結合を出力するモデル  \n",
    "　慣例として予測値にはハットを付ける（正解データとは異なる)  \n",
    "・入力の各要素を、説明変数または特徴量といい、m次元のベクトル(m=1の場合はスカラー)で表現する。出力のことを、目的変数といい、スカラー値で表現する。  \n",
    "・説明変数が多次元の場合を重回帰、1次元の場合を単回帰という。  \n",
    "　説明変数が2次元以下、目的変数1次元の場合はmatplotlibやseaborn等のライブラリを用いて可視化できるが、それ以上は合計4次元以上となるため可視化できない。  \n",
    "・入力ベクトルと未知のパラメータの内積（線形結合）と切片の加算により、モデルが構成される。  \n",
    "$$\n",
    "\\hat{y} = \\boldsymbol{w^{T}x} + w_0 = \\Sigma_{j=1}^m w_jx_j+w_0\n",
    "$$\n",
    "・ 未知の重みパラメータである$w$を学習する。重みパラメータは、特徴量が予測値に対してどのように影響を与えるかを決定する。  \n",
    "・ 線形回帰モデルのパラメータは最小二乗法で推定する。学習データの平均二乗誤差(mean_squared_error)を最小とするパラメータを探索する。　\n",    
    "・学習データの平均二乗誤差の最小化はその勾配が0になる点を求めれば良い。  \n",
    "・誤差をガウス分布に従う確率変数を仮定し尤度関数の最大化を推定した推定も可能。  \n",
    "・線形回帰では、最尤法による解と最小二乗法による解は一致する。  "
   ]
  },
  {
   "cell_type": "markdown",
   "id": "6a51bf3c",
   "metadata": {},
   "source": [
    "## 実装演習\n",
    "Bostonデータセットを用いる。データセットは506個、各入力（行方向）は13個の特徴量からなる。"
   ]
  },
  {
   "cell_type": "code",
   "execution_count": 1,
   "id": "0dc16340",
   "metadata": {
    "scrolled": true
   },
   "outputs": [
    {
     "name": "stdout",
     "output_type": "stream",
     "text": [
      "(506, 13)\n",
      "['CRIM' 'ZN' 'INDUS' 'CHAS' 'NOX' 'RM' 'AGE' 'DIS' 'RAD' 'TAX' 'PTRATIO'\n",
      " 'B' 'LSTAT']\n"
     ]
    }
   ],
   "source": [
    "import numpy as np\n",
    "import pandas as pd\n",
    "import matplotlib.pyplot as plt\n",
    "\n",
    "from sklearn.datasets import load_boston\n",
    "boston = load_boston()\n",
    "X, y = boston.data, boston.target\n",
    "print(boston.data.shape)\n",
    "print(boston.feature_names)"
   ]
  },
  {
   "cell_type": "markdown",
   "id": "eb2ef140",
   "metadata": {},
   "source": [
    "## 単回帰分析\n",
    "問題：部屋数（RM)が5の物件はいくらになるか？"
   ]
  },
  {
   "cell_type": "code",
   "execution_count": 2,
   "id": "eae31cd1",
   "metadata": {},
   "outputs": [
    {
     "data": {
      "text/plain": [
       "array([10.40573194])"
      ]
     },
     "execution_count": 2,
     "metadata": {},
     "output_type": "execute_result"
    }
   ],
   "source": [
    "mask = list(map(lambda x: x in ['RM'], boston.feature_names))\n",
    "X = boston.data[:, mask]\n",
    "# train/test分離\n",
    "from sklearn.model_selection import train_test_split\n",
    "X_train, X_test, y_train, y_test = train_test_split(X, y, test_size=0.2, random_state=0)\n",
    "# モデルの定義\n",
    "from sklearn import linear_model\n",
    "reg = linear_model.LinearRegression()\n",
    "# 学習\n",
    "reg.fit(X_train, y_train)\n",
    "# 予測\n",
    "reg.predict([[5]])"
   ]
  },
  {
   "cell_type": "markdown",
   "id": "46237f7b",
   "metadata": {},
   "source": [
    "予想価格( Median value of owner-occupied homes in $1000's)は`10.4`となった。"
   ]
  },
  {
   "cell_type": "code",
   "execution_count": 3,
   "id": "0e505e67",
   "metadata": {},
   "outputs": [
    {
     "name": "stdout",
     "output_type": "stream",
     "text": [
      "coef_: [9.37638431]\n",
      "intercept_: -36.476189627647315\n"
     ]
    }
   ],
   "source": [
    "# 単回帰の回帰係数と切片を出力\n",
    "print(\"coef_: {}\".format(reg.coef_))\n",
    "print(\"intercept_: {}\".format(reg.intercept_))"
   ]
  },
  {
   "cell_type": "markdown",
   "id": "2caca64f",
   "metadata": {},
   "source": [
    "## 重回帰分析\n",
    "問題：築年数10年で部屋数（RM)が5で犯罪率(CRIM)が0.03の物件はいくらになるか？"
   ]
  },
  {
   "cell_type": "code",
   "execution_count": 4,
   "id": "a9a6cca5",
   "metadata": {},
   "outputs": [
    {
     "data": {
      "text/plain": [
       "array([16.23106862])"
      ]
     },
     "execution_count": 4,
     "metadata": {},
     "output_type": "execute_result"
    }
   ],
   "source": [
    "mask2 = list(map(lambda x: x in ['CRIM','RM','AGE'], boston.feature_names))\n",
    "X = boston.data[:, mask2]\n",
    "# train/test分離\n",
    "from sklearn.model_selection import train_test_split\n",
    "X_train, X_test, y_train, y_test = train_test_split(X, y, test_size=0.2, random_state=0)\n",
    "# モデルの定義\n",
    "from sklearn import linear_model\n",
    "reg2 = linear_model.LinearRegression()\n",
    "# 学習\n",
    "reg2.fit(X_train, y_train)\n",
    "# 予測\n",
    "reg2.predict([[0.03,5,10]])"
   ]
  },
  {
   "cell_type": "markdown",
   "id": "d2552c14",
   "metadata": {},
   "source": [
    "予想価格( Median value of owner-occupied homes in $1000's)は`12.45`となった。"
   ]
  },
  {
   "cell_type": "code",
   "execution_count": 5,
   "id": "bab2401d",
   "metadata": {
    "scrolled": true
   },
   "outputs": [
    {
     "name": "stdout",
     "output_type": "stream",
     "text": [
      "coef_: [-0.26256086  8.16676468 -0.05708244]\n",
      "intercept_: -24.02405356920702\n"
     ]
    }
   ],
   "source": [
    "print(\"coef_: {}\".format(reg2.coef_))\n",
    "print(\"intercept_: {}\".format(reg2.intercept_))"
   ]
  },
  {
   "cell_type": "markdown",
   "id": "7a45b2e8",
   "metadata": {},
   "source": [
    "## 演習課題\n",
    "・設定\n",
    "　ボストンの住宅データセットを線形回帰モデルで分析\n",
    "  適切な査定結果が必要\n",
    "　高すぎても安すぎても会社に損害がある\n",
    "・課題\n",
    "　部屋数が4で犯罪率が0.3の物件はいくらになるか？"
   ]
  },
  {
   "cell_type": "code",
   "execution_count": 6,
   "id": "5ee98e1c",
   "metadata": {},
   "outputs": [
    {
     "data": {
      "text/plain": [
       "array([3.72851066])"
      ]
     },
     "execution_count": 6,
     "metadata": {},
     "output_type": "execute_result"
    }
   ],
   "source": [
    "mask3 = list(map(lambda x: x in ['CRIM','RM'], boston.feature_names))\n",
    "X = boston.data[:, mask3]\n",
    "# train/test分離\n",
    "from sklearn.model_selection import train_test_split\n",
    "X_train, X_test, y_train, y_test = train_test_split(X, y, test_size=0.2, random_state=0)\n",
    "# モデルの定義\n",
    "from sklearn import linear_model\n",
    "reg3 = linear_model.LinearRegression()\n",
    "# 学習\n",
    "reg3.fit(X_train, y_train)\n",
    "# 予測\n",
    "reg3.predict([[0.3,4]])"
   ]
  },
  {
   "cell_type": "markdown",
   "id": "2dd0e92b",
   "metadata": {},
   "source": [
    "予想価格( Median value of owner-occupied homes in $1000's)は`3.7`となった。"
   ]
  },
  {
   "cell_type": "code",
   "execution_count": 7,
   "id": "66f4dcc7",
   "metadata": {},
   "outputs": [
    {
     "data": {
      "text/html": [
       "<div>\n",
       "<style scoped>\n",
       "    .dataframe tbody tr th:only-of-type {\n",
       "        vertical-align: middle;\n",
       "    }\n",
       "\n",
       "    .dataframe tbody tr th {\n",
       "        vertical-align: top;\n",
       "    }\n",
       "\n",
       "    .dataframe thead th {\n",
       "        text-align: right;\n",
       "    }\n",
       "</style>\n",
       "<table border=\"1\" class=\"dataframe\">\n",
       "  <thead>\n",
       "    <tr style=\"text-align: right;\">\n",
       "      <th></th>\n",
       "      <th>CRIM</th>\n",
       "      <th>ZN</th>\n",
       "      <th>INDUS</th>\n",
       "      <th>CHAS</th>\n",
       "      <th>NOX</th>\n",
       "      <th>RM</th>\n",
       "      <th>AGE</th>\n",
       "      <th>DIS</th>\n",
       "      <th>RAD</th>\n",
       "      <th>TAX</th>\n",
       "      <th>PTRATIO</th>\n",
       "      <th>B</th>\n",
       "      <th>LSTAT</th>\n",
       "      <th>MEDV</th>\n",
       "    </tr>\n",
       "  </thead>\n",
       "  <tbody>\n",
       "    <tr>\n",
       "      <th>0</th>\n",
       "      <td>0.00632</td>\n",
       "      <td>18.0</td>\n",
       "      <td>2.31</td>\n",
       "      <td>0.0</td>\n",
       "      <td>0.538</td>\n",
       "      <td>6.575</td>\n",
       "      <td>65.2</td>\n",
       "      <td>4.0900</td>\n",
       "      <td>1.0</td>\n",
       "      <td>296.0</td>\n",
       "      <td>15.3</td>\n",
       "      <td>396.90</td>\n",
       "      <td>4.98</td>\n",
       "      <td>24.0</td>\n",
       "    </tr>\n",
       "    <tr>\n",
       "      <th>1</th>\n",
       "      <td>0.02731</td>\n",
       "      <td>0.0</td>\n",
       "      <td>7.07</td>\n",
       "      <td>0.0</td>\n",
       "      <td>0.469</td>\n",
       "      <td>6.421</td>\n",
       "      <td>78.9</td>\n",
       "      <td>4.9671</td>\n",
       "      <td>2.0</td>\n",
       "      <td>242.0</td>\n",
       "      <td>17.8</td>\n",
       "      <td>396.90</td>\n",
       "      <td>9.14</td>\n",
       "      <td>21.6</td>\n",
       "    </tr>\n",
       "    <tr>\n",
       "      <th>2</th>\n",
       "      <td>0.02729</td>\n",
       "      <td>0.0</td>\n",
       "      <td>7.07</td>\n",
       "      <td>0.0</td>\n",
       "      <td>0.469</td>\n",
       "      <td>7.185</td>\n",
       "      <td>61.1</td>\n",
       "      <td>4.9671</td>\n",
       "      <td>2.0</td>\n",
       "      <td>242.0</td>\n",
       "      <td>17.8</td>\n",
       "      <td>392.83</td>\n",
       "      <td>4.03</td>\n",
       "      <td>34.7</td>\n",
       "    </tr>\n",
       "    <tr>\n",
       "      <th>3</th>\n",
       "      <td>0.03237</td>\n",
       "      <td>0.0</td>\n",
       "      <td>2.18</td>\n",
       "      <td>0.0</td>\n",
       "      <td>0.458</td>\n",
       "      <td>6.998</td>\n",
       "      <td>45.8</td>\n",
       "      <td>6.0622</td>\n",
       "      <td>3.0</td>\n",
       "      <td>222.0</td>\n",
       "      <td>18.7</td>\n",
       "      <td>394.63</td>\n",
       "      <td>2.94</td>\n",
       "      <td>33.4</td>\n",
       "    </tr>\n",
       "    <tr>\n",
       "      <th>4</th>\n",
       "      <td>0.06905</td>\n",
       "      <td>0.0</td>\n",
       "      <td>2.18</td>\n",
       "      <td>0.0</td>\n",
       "      <td>0.458</td>\n",
       "      <td>7.147</td>\n",
       "      <td>54.2</td>\n",
       "      <td>6.0622</td>\n",
       "      <td>3.0</td>\n",
       "      <td>222.0</td>\n",
       "      <td>18.7</td>\n",
       "      <td>396.90</td>\n",
       "      <td>5.33</td>\n",
       "      <td>36.2</td>\n",
       "    </tr>\n",
       "  </tbody>\n",
       "</table>\n",
       "</div>"
      ],
      "text/plain": [
       "      CRIM    ZN  INDUS  CHAS    NOX     RM   AGE     DIS  RAD    TAX  \\\n",
       "0  0.00632  18.0   2.31   0.0  0.538  6.575  65.2  4.0900  1.0  296.0   \n",
       "1  0.02731   0.0   7.07   0.0  0.469  6.421  78.9  4.9671  2.0  242.0   \n",
       "2  0.02729   0.0   7.07   0.0  0.469  7.185  61.1  4.9671  2.0  242.0   \n",
       "3  0.03237   0.0   2.18   0.0  0.458  6.998  45.8  6.0622  3.0  222.0   \n",
       "4  0.06905   0.0   2.18   0.0  0.458  7.147  54.2  6.0622  3.0  222.0   \n",
       "\n",
       "   PTRATIO       B  LSTAT  MEDV  \n",
       "0     15.3  396.90   4.98  24.0  \n",
       "1     17.8  396.90   9.14  21.6  \n",
       "2     17.8  392.83   4.03  34.7  \n",
       "3     18.7  394.63   2.94  33.4  \n",
       "4     18.7  396.90   5.33  36.2  "
      ]
     },
     "metadata": {},
     "output_type": "display_data"
    }
   ],
   "source": [
    "df = pd.DataFrame(boston.data,columns=boston.feature_names)\n",
    "df['MEDV']= boston.target\n",
    "display(df.head())"
   ]
  },
  {
   "cell_type": "code",
   "execution_count": 8,
   "id": "0cff2fea",
   "metadata": {},
   "outputs": [
    {
     "data": {
      "text/html": [
       "<div>\n",
       "<style scoped>\n",
       "    .dataframe tbody tr th:only-of-type {\n",
       "        vertical-align: middle;\n",
       "    }\n",
       "\n",
       "    .dataframe tbody tr th {\n",
       "        vertical-align: top;\n",
       "    }\n",
       "\n",
       "    .dataframe thead th {\n",
       "        text-align: right;\n",
       "    }\n",
       "</style>\n",
       "<table border=\"1\" class=\"dataframe\">\n",
       "  <thead>\n",
       "    <tr style=\"text-align: right;\">\n",
       "      <th></th>\n",
       "      <th>CRIM</th>\n",
       "      <th>RM</th>\n",
       "    </tr>\n",
       "  </thead>\n",
       "  <tbody>\n",
       "    <tr>\n",
       "      <th>0</th>\n",
       "      <td>0.00632</td>\n",
       "      <td>6.575</td>\n",
       "    </tr>\n",
       "    <tr>\n",
       "      <th>1</th>\n",
       "      <td>0.02731</td>\n",
       "      <td>6.421</td>\n",
       "    </tr>\n",
       "    <tr>\n",
       "      <th>2</th>\n",
       "      <td>0.02729</td>\n",
       "      <td>7.185</td>\n",
       "    </tr>\n",
       "    <tr>\n",
       "      <th>3</th>\n",
       "      <td>0.03237</td>\n",
       "      <td>6.998</td>\n",
       "    </tr>\n",
       "    <tr>\n",
       "      <th>4</th>\n",
       "      <td>0.06905</td>\n",
       "      <td>7.147</td>\n",
       "    </tr>\n",
       "  </tbody>\n",
       "</table>\n",
       "</div>"
      ],
      "text/plain": [
       "      CRIM     RM\n",
       "0  0.00632  6.575\n",
       "1  0.02731  6.421\n",
       "2  0.02729  7.185\n",
       "3  0.03237  6.998\n",
       "4  0.06905  7.147"
      ]
     },
     "metadata": {},
     "output_type": "display_data"
    },
    {
     "data": {
      "text/html": [
       "<div>\n",
       "<style scoped>\n",
       "    .dataframe tbody tr th:only-of-type {\n",
       "        vertical-align: middle;\n",
       "    }\n",
       "\n",
       "    .dataframe tbody tr th {\n",
       "        vertical-align: top;\n",
       "    }\n",
       "\n",
       "    .dataframe thead th {\n",
       "        text-align: right;\n",
       "    }\n",
       "</style>\n",
       "<table border=\"1\" class=\"dataframe\">\n",
       "  <thead>\n",
       "    <tr style=\"text-align: right;\">\n",
       "      <th></th>\n",
       "      <th>MEDV</th>\n",
       "    </tr>\n",
       "  </thead>\n",
       "  <tbody>\n",
       "    <tr>\n",
       "      <th>0</th>\n",
       "      <td>24.0</td>\n",
       "    </tr>\n",
       "    <tr>\n",
       "      <th>1</th>\n",
       "      <td>21.6</td>\n",
       "    </tr>\n",
       "    <tr>\n",
       "      <th>2</th>\n",
       "      <td>34.7</td>\n",
       "    </tr>\n",
       "    <tr>\n",
       "      <th>3</th>\n",
       "      <td>33.4</td>\n",
       "    </tr>\n",
       "    <tr>\n",
       "      <th>4</th>\n",
       "      <td>36.2</td>\n",
       "    </tr>\n",
       "  </tbody>\n",
       "</table>\n",
       "</div>"
      ],
      "text/plain": [
       "   MEDV\n",
       "0  24.0\n",
       "1  21.6\n",
       "2  34.7\n",
       "3  33.4\n",
       "4  36.2"
      ]
     },
     "metadata": {},
     "output_type": "display_data"
    }
   ],
   "source": [
    "X = df[[\"CRIM\",\"RM\"]]\n",
    "y = df[[\"MEDV\"]]\n",
    "\n",
    "display(X.head())\n",
    "display(y.head())"
   ]
  },
  {
   "cell_type": "code",
   "execution_count": 9,
   "id": "7bf6e4af",
   "metadata": {
    "scrolled": false
   },
   "outputs": [
    {
     "name": "stdout",
     "output_type": "stream",
     "text": [
      "354\n"
     ]
    },
    {
     "data": {
      "text/html": [
       "<div>\n",
       "<style scoped>\n",
       "    .dataframe tbody tr th:only-of-type {\n",
       "        vertical-align: middle;\n",
       "    }\n",
       "\n",
       "    .dataframe tbody tr th {\n",
       "        vertical-align: top;\n",
       "    }\n",
       "\n",
       "    .dataframe thead th {\n",
       "        text-align: right;\n",
       "    }\n",
       "</style>\n",
       "<table border=\"1\" class=\"dataframe\">\n",
       "  <thead>\n",
       "    <tr style=\"text-align: right;\">\n",
       "      <th></th>\n",
       "      <th>CRIM</th>\n",
       "      <th>RM</th>\n",
       "    </tr>\n",
       "  </thead>\n",
       "  <tbody>\n",
       "    <tr>\n",
       "      <th>141</th>\n",
       "      <td>1.62864</td>\n",
       "      <td>5.019</td>\n",
       "    </tr>\n",
       "    <tr>\n",
       "      <th>272</th>\n",
       "      <td>0.11460</td>\n",
       "      <td>6.538</td>\n",
       "    </tr>\n",
       "    <tr>\n",
       "      <th>135</th>\n",
       "      <td>0.55778</td>\n",
       "      <td>6.335</td>\n",
       "    </tr>\n",
       "    <tr>\n",
       "      <th>298</th>\n",
       "      <td>0.06466</td>\n",
       "      <td>6.345</td>\n",
       "    </tr>\n",
       "    <tr>\n",
       "      <th>122</th>\n",
       "      <td>0.09299</td>\n",
       "      <td>5.961</td>\n",
       "    </tr>\n",
       "  </tbody>\n",
       "</table>\n",
       "</div>"
      ],
      "text/plain": [
       "        CRIM     RM\n",
       "141  1.62864  5.019\n",
       "272  0.11460  6.538\n",
       "135  0.55778  6.335\n",
       "298  0.06466  6.345\n",
       "122  0.09299  5.961"
      ]
     },
     "metadata": {},
     "output_type": "display_data"
    },
    {
     "name": "stdout",
     "output_type": "stream",
     "text": [
      "152\n"
     ]
    },
    {
     "data": {
      "text/html": [
       "<div>\n",
       "<style scoped>\n",
       "    .dataframe tbody tr th:only-of-type {\n",
       "        vertical-align: middle;\n",
       "    }\n",
       "\n",
       "    .dataframe tbody tr th {\n",
       "        vertical-align: top;\n",
       "    }\n",
       "\n",
       "    .dataframe thead th {\n",
       "        text-align: right;\n",
       "    }\n",
       "</style>\n",
       "<table border=\"1\" class=\"dataframe\">\n",
       "  <thead>\n",
       "    <tr style=\"text-align: right;\">\n",
       "      <th></th>\n",
       "      <th>CRIM</th>\n",
       "      <th>RM</th>\n",
       "    </tr>\n",
       "  </thead>\n",
       "  <tbody>\n",
       "    <tr>\n",
       "      <th>329</th>\n",
       "      <td>0.06724</td>\n",
       "      <td>6.333</td>\n",
       "    </tr>\n",
       "    <tr>\n",
       "      <th>371</th>\n",
       "      <td>9.23230</td>\n",
       "      <td>6.216</td>\n",
       "    </tr>\n",
       "    <tr>\n",
       "      <th>219</th>\n",
       "      <td>0.11425</td>\n",
       "      <td>6.373</td>\n",
       "    </tr>\n",
       "    <tr>\n",
       "      <th>403</th>\n",
       "      <td>24.80170</td>\n",
       "      <td>5.349</td>\n",
       "    </tr>\n",
       "    <tr>\n",
       "      <th>78</th>\n",
       "      <td>0.05646</td>\n",
       "      <td>6.232</td>\n",
       "    </tr>\n",
       "  </tbody>\n",
       "</table>\n",
       "</div>"
      ],
      "text/plain": [
       "         CRIM     RM\n",
       "329   0.06724  6.333\n",
       "371   9.23230  6.216\n",
       "219   0.11425  6.373\n",
       "403  24.80170  5.349\n",
       "78    0.05646  6.232"
      ]
     },
     "metadata": {},
     "output_type": "display_data"
    }
   ],
   "source": [
    "from sklearn.model_selection import train_test_split\n",
    "\n",
    "X_train, X_test, y_train, y_test = train_test_split(X, y, test_size=0.3,random_state=0)\n",
    "\n",
    "print(len(X_train))\n",
    "display(X_train.head())\n",
    "print(len(X_test))\n",
    "display(X_test.head())"
   ]
  },
  {
   "cell_type": "markdown",
   "id": "026440b5",
   "metadata": {},
   "source": [
    "データのスケーリング（標準化）を行う。重回帰のような複数の説明変数を扱う線形系アルゴリズムには正しく学習させるために用いる。"
   ]
  },
  {
   "cell_type": "code",
   "execution_count": 10,
   "id": "5546d97e",
   "metadata": {
    "scrolled": true
   },
   "outputs": [
    {
     "name": "stdout",
     "output_type": "stream",
     "text": [
      "[[-0.20735619 -1.83936729]\n",
      " [-0.38886492  0.32748658]\n",
      " [-0.33573486  0.03790703]]\n",
      "[[-0.39454262  0.03505403]\n",
      " [ 0.70419882 -0.1318465 ]\n",
      " [-0.38890688  0.09211404]]\n"
     ]
    }
   ],
   "source": [
    "from sklearn.preprocessing import StandardScaler\n",
    "\n",
    "scaler = StandardScaler()\n",
    "X_train_scaled = scaler.fit_transform(X_train)\n",
    "X_test_scaled =scaler.transform(X_test)\n",
    "\n",
    "print(X_train_scaled[:3])\n",
    "print(X_test_scaled[:3])"
   ]
  },
  {
   "cell_type": "code",
   "execution_count": 11,
   "id": "a301327c",
   "metadata": {},
   "outputs": [
    {
     "name": "stdout",
     "output_type": "stream",
     "text": [
      "354\n",
      "[[12.08524405]\n",
      " [25.67858515]\n",
      " [23.7917699 ]\n",
      " [24.02207345]\n",
      " [20.68900001]]\n",
      "152\n",
      "[[23.91742099]\n",
      " [20.23323489]\n",
      " [24.250055  ]\n",
      " [ 8.18872185]\n",
      " [23.04606677]]\n"
     ]
    }
   ],
   "source": [
    "from sklearn.linear_model import LinearRegression\n",
    "\n",
    "multi_reg = LinearRegression().fit(X_train_scaled,y_train)\n",
    "y_train_pred = multi_reg.predict(X_train_scaled)\n",
    "y_test_pred = multi_reg.predict(X_test_scaled)\n",
    "\n",
    "print(len(y_train_pred))\n",
    "print(y_train_pred[:5])\n",
    "print(len(y_test_pred))\n",
    "print(y_test_pred[:5])"
   ]
  },
  {
   "cell_type": "markdown",
   "id": "6560006d",
   "metadata": {},
   "source": [
    "モデルの精度はさておき、ひとまず問題なく結果が出力できた。"
   ]
  },
  {
   "cell_type": "code",
   "execution_count": 12,
   "id": "413aaaef",
   "metadata": {},
   "outputs": [
    {
     "data": {
      "image/png": "[encoded data removed]",
      "text/plain": [
       "<Figure size 432x288 with 1 Axes>"
      ]
     },
     "metadata": {
      "needs_background": "light"
     },
     "output_type": "display_data"
    }
   ],
   "source": [
    "import matplotlib.pyplot as plt\n",
    "%matplotlib inline\n",
    "\n",
    "def residual_plot(y_train_pred,y_train, y_test_pred,y_test):\n",
    "  plt.scatter(y_train_pred,y_train_pred-y_train,label=\"train\")\n",
    "  plt.scatter(y_test_pred,y_test_pred-y_test,label=\"test\")\n",
    "  plt.plot([0,50],[0,0],color=\"red\")\n",
    "  plt.xlabel(\"pred\")\n",
    "  plt.ylabel(\"pred - True\")\n",
    "  plt.title(\"Residual Plot\")\n",
    "  plt.legend()\n",
    "  plt.show()\n",
    "    \n",
    "residual_plot(y_train_pred, y_train, y_test_pred, y_test)"
   ]
  },
  {
   "cell_type": "markdown",
   "id": "7f72efd4",
   "metadata": {},
   "source": [
    "残差プロットを見る限り密集部分の範囲は±15ぐらいか。"
   ]
  },
  {
   "cell_type": "code",
   "execution_count": 13,
   "id": "f83b0e5a",
   "metadata": {},
   "outputs": [
    {
     "name": "stdout",
     "output_type": "stream",
     "text": [
      "訓練データスコア\n",
      " MAE = 4.127568287020748\n",
      " MSE = 36.45689467993106\n",
      " RMSE = 6.037954511250566\n",
      " R2 = 0.5699038054072436\n",
      "テストデータスコア\n",
      " MAE = 4.286923647263356\n",
      " MSE = 44.18424117654308\n",
      " RMSE = 6.6471227742943855\n",
      " R2 = 0.4693571730935949\n"
     ]
    }
   ],
   "source": [
    "from sklearn.metrics import mean_absolute_error, mean_squared_error,r2_score\n",
    "import numpy as np\n",
    "\n",
    "def get_eval_score(y_true,y_pred):\n",
    "    \n",
    "    mae = mean_absolute_error(y_true,y_pred)\n",
    "    mse = mean_squared_error(y_true,y_pred)\n",
    "    rmse = np.sqrt(mse)\n",
    "    r2score = r2_score(y_true,y_pred)\n",
    "    \n",
    "    print(f\" MAE = {mae}\")\n",
    "    print(f\" MSE = {mse}\")\n",
    "    print(f\" RMSE = {rmse}\")\n",
    "    print(f\" R2 = {r2score}\")\n",
    "    \n",
    "print(\"訓練データスコア\")\n",
    "get_eval_score(y_train,y_train_pred)\n",
    "print(\"テストデータスコア\")\n",
    "get_eval_score(y_test,y_test_pred)"
   ]
  },
  {
   "cell_type": "markdown",
   "id": "11584c75",
   "metadata": {},
   "source": [
    "訓練データもテストデータもスコアが低い。最後に各説明変数の重みと切片を確認する。"
   ]
  },
  {
   "cell_type": "code",
   "execution_count": 14,
   "id": "e86973f8",
   "metadata": {},
   "outputs": [
    {
     "name": "stdout",
     "output_type": "stream",
     "text": [
      "w0([-0.20735619 -1.83936729]) = -2.4311052078406146\n",
      "w1([-0.38886492  0.32748658]) = 6.069663689303834\n",
      "b = 22.745480225988704\n"
     ]
    }
   ],
   "source": [
    "for i, (col, coef) in enumerate(zip(X_train_scaled,multi_reg.coef_[0])):\n",
    "    print(f\"w{i}({col}) = {coef}\")\n",
    "print(f\"b = {multi_reg.intercept_[0]}\")"
   ]
  },
  {
   "cell_type": "markdown",
   "id": "eaf23c0c",
   "metadata": {},
   "source": [
    "$y=-2.4x_1+6x_2+22$  \n",
    "これに$x_1=0.3,x_2=4$を代入すると  \n",
    "予想価格( Median value of owner-occupied homes in $1000's)は`45.2`となった。"
   ]
  },
  {
   "cell_type": "markdown",
   "id": "b34f0438",
   "metadata": {},
   "source": [
    "## 課題の考察\n",
    "結果は標準化なしの場合も標準化ありの場合もどちらも良くはなかった。`RM`の寄与度が非常に高く、`CRIM`の寄与度が非常に低いことから、単純な重回帰分析では上手く住宅価格を割り出すことはできない。Lasso回帰もRidge回帰も試みたが、上手くいかなかった。決定木やランダムフォレストモデルを用いた方が上手くいくのかもしれない。  \n",
    "13個あるはずの特徴量を2個しか使わなかったため，モデルの表現力が不足していたのかもしれない。特徴量エンジニアリングで  \n",
    "` y = mglearn.datasets.load_extended_boston()`とし、特徴量を増やすなど工夫が必要だったのかもしれない。  \n",
    "それ以上に、`LSTAT`など他の説明変数の中で目的変数と相関が強いカラムがあったため、そちらを採用できたら良かったのかもしれない。  \n",
    "結論としては、私が上記設定で課題の住宅販売の担当者であるならばこれだけのデータではまともな価格は出せないので、他のカラムのデータを沢山集めることをまずは提言したい。"
   ]
  },
  {
   "cell_type": "markdown",
   "id": "ada6643f",
   "metadata": {},
   "source": [
    "# ラビットチャレンジ/科目「機械学習」/「非線形回帰モデル」  \n",
    "\n",
    "## 100文字以上で要点のまとめ  \n",
    "\n",
    "・非線形回帰\n",
    "$$\n",
    "y = w_0 + w_1・x + w_2 ・x^2 + w_3・x^3　\\\\\n",
    "y = w_0 + w_1・\\sin x + w_2・\\cos x + w_3・\\log x  \\\\\n",
    "$$\n",
    "  xの代わりに$\\phi(x)$を用いる。(xの関数は任意)    \n",
    "  ただしパラメータwに関しては線形と同じ。\n",
    "\n",
    "・基底展開法  \n",
    "　回帰関数として、基底関数と呼ばれる既知の非線形関数とパラメータベクトルの線形結合を使用  \n",
    "  未知パラメータは線形回帰モデルと同様に最小二乗法や最尤法により推定\n",
    "\n",
    "$$\n",
    "　y_i = w_0 + \\sum_{j=1}^m w_j\\phi  j(x_i) + \\varepsilon_i\n",
    "$$\n",
    "\n",
    "\n",
    "・よく使われる基底関数   \n",
    "・多項式関数：$$\\Phi_j = x^j$$  \n",
    "・ガウス型基底関数：$$\\Phi_j(x) = \\exp \\biggl(\\dfrac{(x-\\mu_j)^2}{2h_j}\\biggl)$$\n",
    "　データ点が近いほど情報の影響を強く受ける。離れるにしたがい情報の影響は弱まる。  \n",
    "　データが十分に存在する場所は分散が小さくなり、データが少ない場所では分散が大きくなる。  \n",
    "　線形回帰モデルを無限次元に拡張できる。  \n",
    "　計算量が膨大になるのでカーネル行列の計算量を減らす工夫が必要。  \n",
    "・スプライン関数/Bスプライン関数    \n",
    "　基底展開法も線形回帰と同じ枠組みで推定可能  \n",
    "  \n",
    "・未学習(underfitting)と過学習(overfitting)  \n",
    "　学習データに対して、十分小さな誤差が得られていないモデルは未学習であると推測できる。  \n",
    "　小さな誤差は得られたけど、テスト（検証）誤差との差が大きいモデルは過学習であると推定出来る。  \n",
    "　過学習を抑制するための対策は以下の３点。  \n",
    " ①学習データの数を増やす  \n",
    " ②不要な基底関数を削除して表現力を抑止  \n",
    " ③正則化法を利用して表現力を抑止  \n",
    "　学習データの数を増やす、不要な基底関数を削除する、はそれぞれデータの増加、モデルの表現力を下げることにより学習データへのオーバーフィッティング（過学習）を抑える手法。  \n",
    "  正則化法は、損失関数に制約をかける（重みパラメータのL1ノルム(lasso)やL2ノルム(Ridge)を加える）ことで過学習を抑える手法。 \n",
    "  \n",
    "　上記①〜③を駆使して汎化しているモデルを目指す。\n",
    "  \n",
    "・ホールドアウト法は、有限のデータを学習用と検証用の2つに分割し、「予測精度」や「誤り率」を求め、推定するために使用。手元にデータが大量にある場合を除いて、良い性能評価を与えないという欠点がある。  \n",
    "  \n",
    "・クロスバリデーション（交差検証）は、データを複数に分割しグループに対して、学習用、検証用を入れ替えていくことで、各モデルの精度を計測する手法。精度の平均をCV値と呼ぶ。\n",
    "  \n",
    "・グリッドサーチは学習モデルに用いられるハイパーパラメータを調整していき、モデルの汎化性能を向上させる方法を探す代表的な手法。"
   ]
  },
  {
   "cell_type": "markdown",
   "id": "a1ff3b0f",
   "metadata": {},
   "source": [
    "## 実装演習\n",
    "先ほどと同じくBostonデータセットを用いる。"
   ]
  },
  {
   "cell_type": "markdown",
   "id": "0c156990",
   "metadata": {},
   "source": [
    "## 非線形回帰分析\n",
    "　問題：人口あたり地位が低い率（LSTAT)が5の物件はいくらになるか？"
   ]
  },
  {
   "cell_type": "code",
   "execution_count": 15,
   "id": "9ce5ba0e",
   "metadata": {},
   "outputs": [],
   "source": [
    "import numpy as np \n",
    "import pandas as pd \n",
    "\n",
    "from sklearn.datasets import load_boston\n",
    "from sklearn.linear_model import LinearRegression\n",
    "from sklearn.model_selection import train_test_split\n",
    "from sklearn.preprocessing import PolynomialFeatures\n",
    "\n",
    "import matplotlib.pyplot as plt\n",
    "import seaborn as sns\n",
    "\n",
    "sns.set()\n",
    "sns.set_style(\"ticks\")"
   ]
  },
  {
   "cell_type": "code",
   "execution_count": 16,
   "id": "0db6e06e",
   "metadata": {},
   "outputs": [],
   "source": [
    "# データ準備\n",
    "x = df[\"LSTAT\"]\n",
    "X = np.array(x).reshape(-1, 1)\n",
    "y = df[\"MEDV\"]\n",
    "# 訓練用データとテスト用データに分割\n",
    "X_train, X_test, y_train, y_test = train_test_split(X, y, test_size=0.2, random_state=0)"
   ]
  },
  {
   "cell_type": "code",
   "execution_count": 17,
   "id": "58639762",
   "metadata": {},
   "outputs": [
    {
     "name": "stdout",
     "output_type": "stream",
     "text": [
      "LSTAT:\n",
      "[[ 9.71]\n",
      " [ 9.88]\n",
      " [11.38]\n",
      " [12.43]\n",
      " [26.64]]\n",
      "LSTAT^2: \n",
      "[[  9.71    94.2841]\n",
      " [  9.88    97.6144]\n",
      " [ 11.38   129.5044]\n",
      " [ 12.43   154.5049]\n",
      " [ 26.64   709.6896]]\n"
     ]
    }
   ],
   "source": [
    "# 非線形モデルの作成\n",
    "pf = PolynomialFeatures(degree=2, include_bias=False)# 二次元の特徴量を作成\n",
    "X_train_2 = pf.fit_transform(X_train)\n",
    "X_test_2 = pf.fit_transform(X_test)\n",
    "print(\"LSTAT:\")\n",
    "print(X_train[:5])\n",
    "print(\"LSTAT^2: \")\n",
    "print(X_train_2[:5])"
   ]
  },
  {
   "cell_type": "code",
   "execution_count": 18,
   "id": "d17d80ac",
   "metadata": {},
   "outputs": [
    {
     "data": {
      "text/plain": [
       "LinearRegression()"
      ]
     },
     "execution_count": 18,
     "metadata": {},
     "output_type": "execute_result"
    }
   ],
   "source": [
    "# モデル作成\n",
    "lm = LinearRegression()\n",
    "lm.fit(X_train_2, y_train)"
   ]
  },
  {
   "cell_type": "code",
   "execution_count": 19,
   "id": "f034d27f",
   "metadata": {},
   "outputs": [
    {
     "name": "stdout",
     "output_type": "stream",
     "text": [
      "coef_: [-2.36696305  0.04463347]\n",
      "intercept_: 43.109009200262854\n"
     ]
    }
   ],
   "source": [
    "# パラメタ表示\n",
    "print(\"coef_: {}\".format(lm.coef_))\n",
    "print(\"intercept_: {}\".format(lm.intercept_))"
   ]
  },
  {
   "cell_type": "code",
   "execution_count": 20,
   "id": "79fe5615",
   "metadata": {},
   "outputs": [
    {
     "name": "stdout",
     "output_type": "stream",
     "text": [
      "訓練データスコア : 0.668922472964889\n",
      "テストデータスコア : 0.5229324163738782\n"
     ]
    }
   ],
   "source": [
    "# 非線形回帰(2次)モデル精度表示\n",
    "print(\"訓練データスコア : {}\" .format(lm.score(X_train_2, y_train)))\n",
    "print(\"テストデータスコア : {}\" .format(lm.score(X_test_2, y_test)))"
   ]
  },
  {
   "cell_type": "code",
   "execution_count": 21,
   "id": "fa23061a",
   "metadata": {},
   "outputs": [],
   "source": [
    "# モデル作成\n",
    "tmp = LinearRegression()\n",
    "tmp.fit(X_train, y_train)\n",
    "y_pred_tmp = tmp.predict(X_test)"
   ]
  },
  {
   "cell_type": "code",
   "execution_count": 22,
   "id": "3a017f4c",
   "metadata": {},
   "outputs": [
    {
     "name": "stdout",
     "output_type": "stream",
     "text": [
      "訓練データスコア : 0.571031588576562\n",
      "テストデータスコア : 0.43095672846187605\n"
     ]
    }
   ],
   "source": [
    "# 単回帰モデル精度表示\n",
    "print(\"訓練データスコア : {}\" .format(tmp.score(X_train, y_train)))\n",
    "print(\"テストデータスコア : {}\" .format(tmp.score(X_test, y_test)))"
   ]
  },
  {
   "cell_type": "code",
   "execution_count": 23,
   "id": "e4a96228",
   "metadata": {},
   "outputs": [
    {
     "data": {
      "image/png": "[encoded data removed]",
      "text/plain": [
       "<Figure size 720x432 with 1 Axes>"
      ]
     },
     "metadata": {},
     "output_type": "display_data"
    }
   ],
   "source": [
    "# 学習結果\n",
    "X_test_a = np.array([np.sort(X_test[:, 0])]).reshape(len(X_test), 1)\n",
    "X_test_2 = pf.fit_transform(X_test_a)\n",
    "y_pred = lm.predict(X_test_2)\n",
    "plt.figure(figsize=(10, 6))\n",
    "sns.scatterplot(x=X.reshape(len(X), ),y=y, alpha=0.7)\n",
    "sns.lineplot(x=X_test_a.reshape(len(X_test_a), ), y=y_pred, linewidth=2.5, label='poly')\n",
    "sns.lineplot(x=X_test.reshape(len(X_test), ), y=y_pred_tmp, linewidth=2.5, label='linear')\n",
    "plt.xlabel('LSTAT')\n",
    "plt.ylabel('MEDV')\n",
    "plt.show()"
   ]
  },
  {
   "cell_type": "code",
   "execution_count": 24,
   "id": "b64afb1a",
   "metadata": {},
   "outputs": [
    {
     "name": "stdout",
     "output_type": "stream",
     "text": [
      "coef_: [-1.67616065e+00 -3.68987319e+00  1.14655842e+00 -1.72093879e-01\n",
      "  1.55994175e-02 -9.07728515e-04  3.40492316e-05 -7.93448312e-07\n",
      "  1.04165907e-08 -5.87223603e-11]\n",
      "intercept_: 59.775905004852596\n"
     ]
    }
   ],
   "source": [
    "pf2 = PolynomialFeatures(degree=10, include_bias=False)# 10次元の特徴量を作成\n",
    "X_train_10 = pf2.fit_transform(X_train)\n",
    "X_test_10 = pf2.fit_transform(X_test)\n",
    "# モデル作成\n",
    "lm2 = LinearRegression()\n",
    "lm2.fit(X_train_10, y_train)\n",
    "# パラメタ表示\n",
    "print(\"coef_: {}\".format(lm2.coef_))\n",
    "print(\"intercept_: {}\".format(lm2.intercept_))"
   ]
  },
  {
   "cell_type": "code",
   "execution_count": 25,
   "id": "1da4142b",
   "metadata": {},
   "outputs": [
    {
     "name": "stdout",
     "output_type": "stream",
     "text": [
      "訓練データスコア : 0.7087197122161163\n",
      "テストデータスコア : 0.48441448182861724\n"
     ]
    }
   ],
   "source": [
    "# 非線形回帰(10次)モデル精度表示\n",
    "print(\"訓練データスコア : {}\" .format(lm2.score(X_train_10, y_train)))\n",
    "print(\"テストデータスコア : {}\" .format(lm2.score(X_test_10, y_test)))"
   ]
  },
  {
   "cell_type": "code",
   "execution_count": 26,
   "id": "ebd8dbe6",
   "metadata": {},
   "outputs": [
    {
     "data": {
      "image/png": "[encoded data removed]",
      "text/plain": [
       "<Figure size 720x432 with 1 Axes>"
      ]
     },
     "metadata": {},
     "output_type": "display_data"
    }
   ],
   "source": [
    "# 学習結果\n",
    "X_test_a = np.array([np.sort(X_test[:, 0])]).reshape(len(X_test), 1)\n",
    "X_test_10 = pf2.fit_transform(X_test_a)\n",
    "y_pred = lm2.predict(X_test_10)\n",
    "plt.figure(figsize=(10, 6))\n",
    "sns.scatterplot(x=X.reshape(len(X), ),y=y, alpha=0.7)\n",
    "sns.lineplot(x=X_test_a.reshape(len(X_test_a), ), y=y_pred, linewidth=2.5, label='poly')\n",
    "sns.lineplot(x=X_test.reshape(len(X_test), ), y=y_pred_tmp, linewidth=2.5, label='linear')\n",
    "plt.xlabel('LSTAT')\n",
    "plt.ylabel('MEDV')\n",
    "plt.show()"
   ]
  },
  {
   "cell_type": "markdown",
   "id": "6031ef14",
   "metadata": {},
   "source": [
    "\n",
    "## 課題の考察\n",
    "\n",
    "今回は2次と10次の多項式回帰を試してみた。  \n",
    "テストスコアは2次の時の方が良かった。10次は過学習と思われる。`MDEV`がマイナスになっている。ちなみに20次にしたらテストスコアはマイナスになった。\n",
    "多項式関数の特徴として離れた点の推定に影響を受けやすいことがわかる。  \n",
    "モデルの説明変数を増やすほどモデルの柔軟性は向上するはずなので、全説明変数（13個）で試してみると良い。ただし、説明変数を増やしすぎると過学習をするので適切な説明変数を使うことと最小限の説明変数を選択することが必要。データ量を増やす、正則化するなどで過学習を抑えることも重要。今回は可視化してみたかったので、説明変数は最も負の相関が強い変数(`LSTAT`)を選択した。  \n",
    "ガウス型基底関数も計算量は膨大になるのかもしれないが、試してみたいと思う。  "
   ]
  },
  {
   "cell_type": "markdown",
   "id": "99805a81",
   "metadata": {},
   "source": [
    "# ラビットチャレンジ/科目「機械学習」/「ロジスティック回帰モデル」  \n",
    "\n",
    "## 100文字以上で要点のまとめ  \n",
    "\n",
    "・分類問題  \n",
    "　分類モデルは、ある入力（数値）からクラスに分類する問題。（二値分類、多値分類）    \n",
    "　分類で扱うデータは入力は$m$次元のベクトル($m=1$の場合はスカラー)に対し、出力は0 or 1の値となる。  \n",
    "  \n",
    "\n",
    "・ロジスティック線形回帰モデル  \n",
    "　分類モデルを解くための教師あり学習モデル（教師データから学習）。    \n",
    "　入力と$m$次元パラメータの線形結合をシグモイド関数に入力して出力を得る。出力は0から1の範囲の値となり、y=1になる確率を表す。  \n",
    "\n",
    "・ロジスティック回帰の式\n",
    " $$ P(Y = 1|X = x) = \\sigma(w_0 + \\sum_{j=1}^dx_jw_j)=\\sigma(w^T\\tilde{x}^T) $$\n",
    " \n",
    "・シグモイド関数\n",
    "$$\\sigma(x) = \\dfrac{1}{1+\\exp(-ax)}$$  \n",
    "  \n",
    "　aを増加させると、$x=0$付近での曲線の勾配が増加  \n",
    "　aを極めて大きくすると、単位ステップ関数($x<0$で$f(x)=0$,$x>0$で$f(x)=1$となるような関数)に近づく  \n",
    "\n",
    "\n",
    "・シグモイド関数の微分  \n",
    "$$\\dfrac{\\partial \\sigma(x)}{\\partial x} = a\\sigma(x)(1-\\sigma(x))$$\n",
    "\n",
    "　シグモイド関数の微分は、シグモイド関数自身で表現することが可能。  \n",
    "　尤度関数の微分を行う際に、この事実を利用すると計算が簡単。  \n",
    "　出力の確率が0.5以上なら1、未満なら0と予測\n",
    "\n",
    "・最尤推定   \n",
    "　データからそのデータを生成したであろう尤もらしい分布（パラメータ）を推定したい。  \n",
    "　尤度関数$L(w)$を最大化するようなパラメータを選ぶ推定方法  \n",
    "$$\n",
    "E(w)=-logL(w)\n",
    "$$\n",
    "　尤度関数とは、データは固定、パラメータが未知（可変）の、確率の分布を表す関数。  \n",
    "　ロジスティック回帰モデルの最尤推定では、確率$p$がシグモイド関数によって求められるため、推定するパラメータは、重みパラメータ$w$  \n",
    "　実際に学習する際は、負の対数尤度を用いる。  \n",
    "\n",
    "・勾配降下法(Gradient descent)  \n",
    "　反復学習によりパラメータを逐次的に更新するアプローチの一つ  \n",
    "　学習率と呼ばれるハイパーパラメータでモデルのパラメータの収束しやすさを調整  \n",
    "\n",
    "・確率的勾配降下法(SGD)   \n",
    "　データを一つずつランダムに（「確率的」に）選んでパラメータを更新  \n",
    "   \n",
    "　※SGDの方が計算量が少なくて済む。  \n",
    "\n",
    "・ロジスティック回帰モデルの性能を測る指標  \n",
    "　再現率(Recall)、適合率(Precision)、F値がある。  \n",
    "　再現率は、「本当にPositiveなもの」の中で、「Positiveと予測」できている割合(NegativeなものをPositiveとしてしまう事象については考えていない。)  \n",
    "　適合率は、モデルが「Positiveと予測」したものの中で「本当にPositiveと予測」できている割合。(本当にPositiveなものをNegativeとしてしまう事象については考えていない。)  \n",
    "　再現率と適合率はトレードオフで、F値は両者の調和平均。\n",
    "\n"
   ]
  },
  {
   "cell_type": "markdown",
   "id": "07d38578",
   "metadata": {},
   "source": [
    "## 実装演習\n",
    "Titanicデータセットを用いる。  \n",
    "・設定  \n",
    "　タイタニックの乗客データを利用しロジスティック回帰モデルを作成  \n",
    "　特徴量抽出をしてみる  \n",
    "・課題  \n",
    "　年齢が30歳で男の乗客は生き残れるか？  "
   ]
  },
  {
   "cell_type": "markdown",
   "id": "15fd4125",
   "metadata": {},
   "source": [
    "## ロジスティック回帰"
   ]
  },
  {
   "cell_type": "code",
   "execution_count": 27,
   "id": "b35fec86",
   "metadata": {},
   "outputs": [],
   "source": [
    "import numpy as np\n",
    "import pandas as pd\n",
    "import matplotlib.pyplot as plt\n",
    "import seaborn as sns\n",
    "%matplotlib inline"
   ]
  },
  {
   "cell_type": "code",
   "execution_count": 28,
   "id": "baf07c8e",
   "metadata": {
    "scrolled": true
   },
   "outputs": [
    {
     "data": {
      "text/html": [
       "<div>\n",
       "<style scoped>\n",
       "    .dataframe tbody tr th:only-of-type {\n",
       "        vertical-align: middle;\n",
       "    }\n",
       "\n",
       "    .dataframe tbody tr th {\n",
       "        vertical-align: top;\n",
       "    }\n",
       "\n",
       "    .dataframe thead th {\n",
       "        text-align: right;\n",
       "    }\n",
       "</style>\n",
       "<table border=\"1\" class=\"dataframe\">\n",
       "  <thead>\n",
       "    <tr style=\"text-align: right;\">\n",
       "      <th></th>\n",
       "      <th>PassengerId</th>\n",
       "      <th>Survived</th>\n",
       "      <th>Pclass</th>\n",
       "      <th>Name</th>\n",
       "      <th>Sex</th>\n",
       "      <th>Age</th>\n",
       "      <th>SibSp</th>\n",
       "      <th>Parch</th>\n",
       "      <th>Ticket</th>\n",
       "      <th>Fare</th>\n",
       "      <th>Cabin</th>\n",
       "      <th>Embarked</th>\n",
       "    </tr>\n",
       "  </thead>\n",
       "  <tbody>\n",
       "    <tr>\n",
       "      <th>0</th>\n",
       "      <td>1</td>\n",
       "      <td>0</td>\n",
       "      <td>3</td>\n",
       "      <td>Braund, Mr. Owen Harris</td>\n",
       "      <td>male</td>\n",
       "      <td>22.0</td>\n",
       "      <td>1</td>\n",
       "      <td>0</td>\n",
       "      <td>A/5 21171</td>\n",
       "      <td>7.2500</td>\n",
       "      <td>NaN</td>\n",
       "      <td>S</td>\n",
       "    </tr>\n",
       "    <tr>\n",
       "      <th>1</th>\n",
       "      <td>2</td>\n",
       "      <td>1</td>\n",
       "      <td>1</td>\n",
       "      <td>Cumings, Mrs. John Bradley (Florence Briggs Th...</td>\n",
       "      <td>female</td>\n",
       "      <td>38.0</td>\n",
       "      <td>1</td>\n",
       "      <td>0</td>\n",
       "      <td>PC 17599</td>\n",
       "      <td>71.2833</td>\n",
       "      <td>C85</td>\n",
       "      <td>C</td>\n",
       "    </tr>\n",
       "    <tr>\n",
       "      <th>2</th>\n",
       "      <td>3</td>\n",
       "      <td>1</td>\n",
       "      <td>3</td>\n",
       "      <td>Heikkinen, Miss. Laina</td>\n",
       "      <td>female</td>\n",
       "      <td>26.0</td>\n",
       "      <td>0</td>\n",
       "      <td>0</td>\n",
       "      <td>STON/O2. 3101282</td>\n",
       "      <td>7.9250</td>\n",
       "      <td>NaN</td>\n",
       "      <td>S</td>\n",
       "    </tr>\n",
       "    <tr>\n",
       "      <th>3</th>\n",
       "      <td>4</td>\n",
       "      <td>1</td>\n",
       "      <td>1</td>\n",
       "      <td>Futrelle, Mrs. Jacques Heath (Lily May Peel)</td>\n",
       "      <td>female</td>\n",
       "      <td>35.0</td>\n",
       "      <td>1</td>\n",
       "      <td>0</td>\n",
       "      <td>113803</td>\n",
       "      <td>53.1000</td>\n",
       "      <td>C123</td>\n",
       "      <td>S</td>\n",
       "    </tr>\n",
       "    <tr>\n",
       "      <th>4</th>\n",
       "      <td>5</td>\n",
       "      <td>0</td>\n",
       "      <td>3</td>\n",
       "      <td>Allen, Mr. William Henry</td>\n",
       "      <td>male</td>\n",
       "      <td>35.0</td>\n",
       "      <td>0</td>\n",
       "      <td>0</td>\n",
       "      <td>373450</td>\n",
       "      <td>8.0500</td>\n",
       "      <td>NaN</td>\n",
       "      <td>S</td>\n",
       "    </tr>\n",
       "  </tbody>\n",
       "</table>\n",
       "</div>"
      ],
      "text/plain": [
       "   PassengerId  Survived  Pclass  \\\n",
       "0            1         0       3   \n",
       "1            2         1       1   \n",
       "2            3         1       3   \n",
       "3            4         1       1   \n",
       "4            5         0       3   \n",
       "\n",
       "                                                Name     Sex   Age  SibSp  \\\n",
       "0                            Braund, Mr. Owen Harris    male  22.0      1   \n",
       "1  Cumings, Mrs. John Bradley (Florence Briggs Th...  female  38.0      1   \n",
       "2                             Heikkinen, Miss. Laina  female  26.0      0   \n",
       "3       Futrelle, Mrs. Jacques Heath (Lily May Peel)  female  35.0      1   \n",
       "4                           Allen, Mr. William Henry    male  35.0      0   \n",
       "\n",
       "   Parch            Ticket     Fare Cabin Embarked  \n",
       "0      0         A/5 21171   7.2500   NaN        S  \n",
       "1      0          PC 17599  71.2833   C85        C  \n",
       "2      0  STON/O2. 3101282   7.9250   NaN        S  \n",
       "3      0            113803  53.1000  C123        S  \n",
       "4      0            373450   8.0500   NaN        S  "
      ]
     },
     "execution_count": 28,
     "metadata": {},
     "output_type": "execute_result"
    }
   ],
   "source": [
    "train_df = pd.read_csv('titanic_train.csv')\n",
    "train_df.head()"
   ]
  },
  {
   "cell_type": "code",
   "execution_count": 29,
   "id": "05fbcde4",
   "metadata": {
    "scrolled": true
   },
   "outputs": [
    {
     "data": {
      "text/html": [
       "<div>\n",
       "<style scoped>\n",
       "    .dataframe tbody tr th:only-of-type {\n",
       "        vertical-align: middle;\n",
       "    }\n",
       "\n",
       "    .dataframe tbody tr th {\n",
       "        vertical-align: top;\n",
       "    }\n",
       "\n",
       "    .dataframe thead th {\n",
       "        text-align: right;\n",
       "    }\n",
       "</style>\n",
       "<table border=\"1\" class=\"dataframe\">\n",
       "  <thead>\n",
       "    <tr style=\"text-align: right;\">\n",
       "      <th></th>\n",
       "      <th>Gender</th>\n",
       "      <th>AgeFill</th>\n",
       "    </tr>\n",
       "  </thead>\n",
       "  <tbody>\n",
       "    <tr>\n",
       "      <th>count</th>\n",
       "      <td>891.000000</td>\n",
       "      <td>891.000000</td>\n",
       "    </tr>\n",
       "    <tr>\n",
       "      <th>mean</th>\n",
       "      <td>0.647587</td>\n",
       "      <td>29.699118</td>\n",
       "    </tr>\n",
       "    <tr>\n",
       "      <th>std</th>\n",
       "      <td>0.477990</td>\n",
       "      <td>13.002015</td>\n",
       "    </tr>\n",
       "    <tr>\n",
       "      <th>min</th>\n",
       "      <td>0.000000</td>\n",
       "      <td>0.420000</td>\n",
       "    </tr>\n",
       "    <tr>\n",
       "      <th>25%</th>\n",
       "      <td>0.000000</td>\n",
       "      <td>22.000000</td>\n",
       "    </tr>\n",
       "    <tr>\n",
       "      <th>50%</th>\n",
       "      <td>1.000000</td>\n",
       "      <td>29.699118</td>\n",
       "    </tr>\n",
       "    <tr>\n",
       "      <th>75%</th>\n",
       "      <td>1.000000</td>\n",
       "      <td>35.000000</td>\n",
       "    </tr>\n",
       "    <tr>\n",
       "      <th>max</th>\n",
       "      <td>1.000000</td>\n",
       "      <td>80.000000</td>\n",
       "    </tr>\n",
       "  </tbody>\n",
       "</table>\n",
       "</div>"
      ],
      "text/plain": [
       "           Gender     AgeFill\n",
       "count  891.000000  891.000000\n",
       "mean     0.647587   29.699118\n",
       "std      0.477990   13.002015\n",
       "min      0.000000    0.420000\n",
       "25%      0.000000   22.000000\n",
       "50%      1.000000   29.699118\n",
       "75%      1.000000   35.000000\n",
       "max      1.000000   80.000000"
      ]
     },
     "metadata": {},
     "output_type": "display_data"
    },
    {
     "data": {
      "text/plain": [
       "count    891.000000\n",
       "mean       0.383838\n",
       "std        0.486592\n",
       "min        0.000000\n",
       "25%        0.000000\n",
       "50%        0.000000\n",
       "75%        1.000000\n",
       "max        1.000000\n",
       "Name: Survived, dtype: float64"
      ]
     },
     "metadata": {},
     "output_type": "display_data"
    }
   ],
   "source": [
    "train_df['AgeFill'] = train_df['Age'].fillna(train_df['Age'].mean())\n",
    "train_df['Gender'] = train_df['Sex'].map({'female': 0, 'male': 1}).astype(int)\n",
    "data_df = train_df[[\"Gender\",\"AgeFill\"]]\n",
    "display(data_df.describe())\n",
    "tg_df = train_df[\"Survived\"]\n",
    "display(tg_df.describe())"
   ]
  },
  {
   "cell_type": "code",
   "execution_count": 30,
   "id": "d29bdb3e",
   "metadata": {
    "scrolled": true
   },
   "outputs": [
    {
     "data": {
      "text/html": [
       "<div>\n",
       "<style scoped>\n",
       "    .dataframe tbody tr th:only-of-type {\n",
       "        vertical-align: middle;\n",
       "    }\n",
       "\n",
       "    .dataframe tbody tr th {\n",
       "        vertical-align: top;\n",
       "    }\n",
       "\n",
       "    .dataframe thead th {\n",
       "        text-align: right;\n",
       "    }\n",
       "</style>\n",
       "<table border=\"1\" class=\"dataframe\">\n",
       "  <thead>\n",
       "    <tr style=\"text-align: right;\">\n",
       "      <th></th>\n",
       "      <th>PassengerId</th>\n",
       "      <th>Pclass</th>\n",
       "      <th>Name</th>\n",
       "      <th>Sex</th>\n",
       "      <th>Age</th>\n",
       "      <th>SibSp</th>\n",
       "      <th>Parch</th>\n",
       "      <th>Ticket</th>\n",
       "      <th>Fare</th>\n",
       "      <th>Cabin</th>\n",
       "      <th>Embarked</th>\n",
       "    </tr>\n",
       "  </thead>\n",
       "  <tbody>\n",
       "    <tr>\n",
       "      <th>0</th>\n",
       "      <td>892</td>\n",
       "      <td>3</td>\n",
       "      <td>Kelly, Mr. James</td>\n",
       "      <td>male</td>\n",
       "      <td>34.5</td>\n",
       "      <td>0</td>\n",
       "      <td>0</td>\n",
       "      <td>330911</td>\n",
       "      <td>7.8292</td>\n",
       "      <td>NaN</td>\n",
       "      <td>Q</td>\n",
       "    </tr>\n",
       "    <tr>\n",
       "      <th>1</th>\n",
       "      <td>893</td>\n",
       "      <td>3</td>\n",
       "      <td>Wilkes, Mrs. James (Ellen Needs)</td>\n",
       "      <td>female</td>\n",
       "      <td>47.0</td>\n",
       "      <td>1</td>\n",
       "      <td>0</td>\n",
       "      <td>363272</td>\n",
       "      <td>7.0000</td>\n",
       "      <td>NaN</td>\n",
       "      <td>S</td>\n",
       "    </tr>\n",
       "    <tr>\n",
       "      <th>2</th>\n",
       "      <td>894</td>\n",
       "      <td>2</td>\n",
       "      <td>Myles, Mr. Thomas Francis</td>\n",
       "      <td>male</td>\n",
       "      <td>62.0</td>\n",
       "      <td>0</td>\n",
       "      <td>0</td>\n",
       "      <td>240276</td>\n",
       "      <td>9.6875</td>\n",
       "      <td>NaN</td>\n",
       "      <td>Q</td>\n",
       "    </tr>\n",
       "    <tr>\n",
       "      <th>3</th>\n",
       "      <td>895</td>\n",
       "      <td>3</td>\n",
       "      <td>Wirz, Mr. Albert</td>\n",
       "      <td>male</td>\n",
       "      <td>27.0</td>\n",
       "      <td>0</td>\n",
       "      <td>0</td>\n",
       "      <td>315154</td>\n",
       "      <td>8.6625</td>\n",
       "      <td>NaN</td>\n",
       "      <td>S</td>\n",
       "    </tr>\n",
       "    <tr>\n",
       "      <th>4</th>\n",
       "      <td>896</td>\n",
       "      <td>3</td>\n",
       "      <td>Hirvonen, Mrs. Alexander (Helga E Lindqvist)</td>\n",
       "      <td>female</td>\n",
       "      <td>22.0</td>\n",
       "      <td>1</td>\n",
       "      <td>1</td>\n",
       "      <td>3101298</td>\n",
       "      <td>12.2875</td>\n",
       "      <td>NaN</td>\n",
       "      <td>S</td>\n",
       "    </tr>\n",
       "  </tbody>\n",
       "</table>\n",
       "</div>"
      ],
      "text/plain": [
       "   PassengerId  Pclass                                          Name     Sex  \\\n",
       "0          892       3                              Kelly, Mr. James    male   \n",
       "1          893       3              Wilkes, Mrs. James (Ellen Needs)  female   \n",
       "2          894       2                     Myles, Mr. Thomas Francis    male   \n",
       "3          895       3                              Wirz, Mr. Albert    male   \n",
       "4          896       3  Hirvonen, Mrs. Alexander (Helga E Lindqvist)  female   \n",
       "\n",
       "    Age  SibSp  Parch   Ticket     Fare Cabin Embarked  \n",
       "0  34.5      0      0   330911   7.8292   NaN        Q  \n",
       "1  47.0      1      0   363272   7.0000   NaN        S  \n",
       "2  62.0      0      0   240276   9.6875   NaN        Q  \n",
       "3  27.0      0      0   315154   8.6625   NaN        S  \n",
       "4  22.0      1      1  3101298  12.2875   NaN        S  "
      ]
     },
     "execution_count": 30,
     "metadata": {},
     "output_type": "execute_result"
    }
   ],
   "source": [
    "test_df = pd.read_csv('titanic_test.csv')\n",
    "test_df.head()"
   ]
  },
  {
   "cell_type": "code",
   "execution_count": 31,
   "id": "f7f5c7fa",
   "metadata": {
    "scrolled": true
   },
   "outputs": [
    {
     "data": {
      "text/html": [
       "<div>\n",
       "<style scoped>\n",
       "    .dataframe tbody tr th:only-of-type {\n",
       "        vertical-align: middle;\n",
       "    }\n",
       "\n",
       "    .dataframe tbody tr th {\n",
       "        vertical-align: top;\n",
       "    }\n",
       "\n",
       "    .dataframe thead th {\n",
       "        text-align: right;\n",
       "    }\n",
       "</style>\n",
       "<table border=\"1\" class=\"dataframe\">\n",
       "  <thead>\n",
       "    <tr style=\"text-align: right;\">\n",
       "      <th></th>\n",
       "      <th>Gender</th>\n",
       "      <th>AgeFill</th>\n",
       "    </tr>\n",
       "  </thead>\n",
       "  <tbody>\n",
       "    <tr>\n",
       "      <th>count</th>\n",
       "      <td>418.000000</td>\n",
       "      <td>418.000000</td>\n",
       "    </tr>\n",
       "    <tr>\n",
       "      <th>mean</th>\n",
       "      <td>0.636364</td>\n",
       "      <td>30.154603</td>\n",
       "    </tr>\n",
       "    <tr>\n",
       "      <th>std</th>\n",
       "      <td>0.481622</td>\n",
       "      <td>12.636666</td>\n",
       "    </tr>\n",
       "    <tr>\n",
       "      <th>min</th>\n",
       "      <td>0.000000</td>\n",
       "      <td>0.170000</td>\n",
       "    </tr>\n",
       "    <tr>\n",
       "      <th>25%</th>\n",
       "      <td>0.000000</td>\n",
       "      <td>23.000000</td>\n",
       "    </tr>\n",
       "    <tr>\n",
       "      <th>50%</th>\n",
       "      <td>1.000000</td>\n",
       "      <td>29.699118</td>\n",
       "    </tr>\n",
       "    <tr>\n",
       "      <th>75%</th>\n",
       "      <td>1.000000</td>\n",
       "      <td>35.750000</td>\n",
       "    </tr>\n",
       "    <tr>\n",
       "      <th>max</th>\n",
       "      <td>1.000000</td>\n",
       "      <td>76.000000</td>\n",
       "    </tr>\n",
       "  </tbody>\n",
       "</table>\n",
       "</div>"
      ],
      "text/plain": [
       "           Gender     AgeFill\n",
       "count  418.000000  418.000000\n",
       "mean     0.636364   30.154603\n",
       "std      0.481622   12.636666\n",
       "min      0.000000    0.170000\n",
       "25%      0.000000   23.000000\n",
       "50%      1.000000   29.699118\n",
       "75%      1.000000   35.750000\n",
       "max      1.000000   76.000000"
      ]
     },
     "metadata": {},
     "output_type": "display_data"
    }
   ],
   "source": [
    "test_df['AgeFill'] = test_df['Age'].fillna(train_df['Age'].mean())\n",
    "test_df['Gender'] = test_df['Sex'].map({'female': 0, 'male': 1}).astype(int)\n",
    "test_df = test_df[[\"Gender\",\"AgeFill\"]]\n",
    "display(test_df.describe())"
   ]
  },
  {
   "cell_type": "code",
   "execution_count": 32,
   "id": "34fde0a7",
   "metadata": {},
   "outputs": [
    {
     "name": "stdout",
     "output_type": "stream",
     "text": [
      "179\n"
     ]
    }
   ],
   "source": [
    "from sklearn.model_selection import train_test_split\n",
    "# データ準備\n",
    "X = data_df\n",
    "y = tg_df\n",
    "# 訓練用データとテスト用データに分割\n",
    "X_train, X_test, y_train, y_test = train_test_split(X, y, test_size=0.2, random_state=0)\n",
    "print(len(X_test))"
   ]
  },
  {
   "cell_type": "code",
   "execution_count": 33,
   "id": "a5ae9c39",
   "metadata": {},
   "outputs": [],
   "source": [
    "from sklearn.linear_model import LogisticRegression\n",
    "log_reg = LogisticRegression(random_state=0).fit(data_df,tg_df)"
   ]
  },
  {
   "cell_type": "code",
   "execution_count": 34,
   "id": "91a6e21a",
   "metadata": {},
   "outputs": [],
   "source": [
    "y_train_pred = log_reg.predict(X_train)\n",
    "y_test_pred = log_reg.predict(X_test)"
   ]
  },
  {
   "cell_type": "code",
   "execution_count": 35,
   "id": "5445807b",
   "metadata": {},
   "outputs": [
    {
     "name": "stdout",
     "output_type": "stream",
     "text": [
      "Requirement already satisfied: mlxtend in /Users/yamaguchitakashi/opt/anaconda3/lib/python3.8/site-packages (0.19.0)\n",
      "Requirement already satisfied: scikit-learn>=0.20.3 in /Users/yamaguchitakashi/opt/anaconda3/lib/python3.8/site-packages (from mlxtend) (0.23.2)\n",
      "Requirement already satisfied: pandas>=0.24.2 in /Users/yamaguchitakashi/opt/anaconda3/lib/python3.8/site-packages (from mlxtend) (1.2.4)\n",
      "Requirement already satisfied: setuptools in /Users/yamaguchitakashi/opt/anaconda3/lib/python3.8/site-packages (from mlxtend) (52.0.0.post20210125)\n",
      "Requirement already satisfied: joblib>=0.13.2 in /Users/yamaguchitakashi/opt/anaconda3/lib/python3.8/site-packages (from mlxtend) (1.0.1)\n",
      "Requirement already satisfied: numpy>=1.16.2 in /Users/yamaguchitakashi/opt/anaconda3/lib/python3.8/site-packages (from mlxtend) (1.19.5)\n",
      "Requirement already satisfied: matplotlib>=3.0.0 in /Users/yamaguchitakashi/opt/anaconda3/lib/python3.8/site-packages (from mlxtend) (3.3.4)\n",
      "Requirement already satisfied: scipy>=1.2.1 in /Users/yamaguchitakashi/opt/anaconda3/lib/python3.8/site-packages (from mlxtend) (1.5.4)\n",
      "Requirement already satisfied: python-dateutil>=2.1 in /Users/yamaguchitakashi/opt/anaconda3/lib/python3.8/site-packages (from matplotlib>=3.0.0->mlxtend) (2.8.1)\n",
      "Requirement already satisfied: pyparsing!=2.0.4,!=2.1.2,!=2.1.6,>=2.0.3 in /Users/yamaguchitakashi/opt/anaconda3/lib/python3.8/site-packages (from matplotlib>=3.0.0->mlxtend) (2.4.7)\n",
      "Requirement already satisfied: pillow>=6.2.0 in /Users/yamaguchitakashi/opt/anaconda3/lib/python3.8/site-packages (from matplotlib>=3.0.0->mlxtend) (8.2.0)\n",
      "Requirement already satisfied: kiwisolver>=1.0.1 in /Users/yamaguchitakashi/opt/anaconda3/lib/python3.8/site-packages (from matplotlib>=3.0.0->mlxtend) (1.3.1)\n",
      "Requirement already satisfied: cycler>=0.10 in /Users/yamaguchitakashi/opt/anaconda3/lib/python3.8/site-packages (from matplotlib>=3.0.0->mlxtend) (0.10.0)\n",
      "Requirement already satisfied: six in /Users/yamaguchitakashi/opt/anaconda3/lib/python3.8/site-packages (from cycler>=0.10->matplotlib>=3.0.0->mlxtend) (1.15.0)\n",
      "Requirement already satisfied: pytz>=2017.3 in /Users/yamaguchitakashi/opt/anaconda3/lib/python3.8/site-packages (from pandas>=0.24.2->mlxtend) (2021.1)\n",
      "Requirement already satisfied: threadpoolctl>=2.0.0 in /Users/yamaguchitakashi/opt/anaconda3/lib/python3.8/site-packages (from scikit-learn>=0.20.3->mlxtend) (2.1.0)\n",
      "Note: you may need to restart the kernel to use updated packages.\n"
     ]
    }
   ],
   "source": [
    "pip install mlxtend"
   ]
  },
  {
   "cell_type": "code",
   "execution_count": 36,
   "id": "2fcc5c56",
   "metadata": {},
   "outputs": [
    {
     "data": {
      "image/png": "[encoded data removed]",
      "text/plain": [
       "<Figure size 432x288 with 1 Axes>"
      ]
     },
     "metadata": {
      "needs_background": "light"
     },
     "output_type": "display_data"
    }
   ],
   "source": [
    "from mlxtend.plotting import plot_decision_regions\n",
    "plot_decision_regions(np.array(X_train),np.array(y_train),clf=log_reg)\n",
    "plt.show()          "
   ]
  },
  {
   "cell_type": "code",
   "execution_count": 37,
   "id": "aa3b57c4",
   "metadata": {},
   "outputs": [
    {
     "name": "stdout",
     "output_type": "stream",
     "text": [
      "Train Score Report\n",
      "              precision    recall  f1-score   support\n",
      "\n",
      "           0       0.81      0.86      0.83       439\n",
      "           1       0.74      0.67      0.71       273\n",
      "\n",
      "    accuracy                           0.79       712\n",
      "   macro avg       0.78      0.77      0.77       712\n",
      "weighted avg       0.78      0.79      0.78       712\n",
      "\n",
      "Test Score Report\n",
      "              precision    recall  f1-score   support\n",
      "\n",
      "           0       0.82      0.84      0.83       110\n",
      "           1       0.73      0.71      0.72        69\n",
      "\n",
      "    accuracy                           0.79       179\n",
      "   macro avg       0.78      0.77      0.77       179\n",
      "weighted avg       0.79      0.79      0.79       179\n",
      "\n"
     ]
    }
   ],
   "source": [
    "from sklearn.metrics import classification_report\n",
    "print(\"Train Score Report\")\n",
    "print(classification_report(y_train,y_train_pred))\n",
    "print(\"Test Score Report\")\n",
    "print(classification_report(y_test,y_test_pred))"
   ]
  },
  {
   "cell_type": "markdown",
   "id": "5f35f81c",
   "metadata": {},
   "source": [
    "`titanic.train`のデータのなかで年齢の欠損値を埋め、ロジスティック回帰を用いたところ`Weightedavg`も`0.79`と意外にも精度が良かった。"
   ]
  },
  {
   "cell_type": "code",
   "execution_count": 38,
   "id": "cd375683",
   "metadata": {
    "scrolled": true
   },
   "outputs": [
    {
     "data": {
      "image/png": "[encoded data removed]",
      "text/plain": [
       "<Figure size 720x360 with 2 Axes>"
      ]
     },
     "metadata": {},
     "output_type": "display_data"
    }
   ],
   "source": [
    "import seaborn as sns\n",
    "import statsmodels.api\n",
    "\n",
    "sns.set(style=\"darkgrid\")\n",
    "\n",
    "# Load the example titanic dataset\n",
    "df = sns.load_dataset(\"titanic\")\n",
    "\n",
    "# Make a custom palette with gendered colors\n",
    "pal = dict(male=\"#6495ED\", female=\"#F08080\")\n",
    "\n",
    "# Show the survival proability as a function of age and sex\n",
    "g = sns.lmplot(x=\"age\", y=\"survived\", col=\"sex\", hue=\"sex\", data=df,\n",
    "               palette=pal, y_jitter=.02, logistic=True)\n",
    "g.set(xlim=(0, 80), ylim=(-.05, 1.05))\n",
    "plt.show()"
   ]
  },
  {
   "cell_type": "markdown",
   "id": "38648bf5",
   "metadata": {},
   "source": [
    "## 課題の考察\n",
    "\n",
    "　titanicデータセットのテストデータについては触れていないが、このモデルを基にkaggleに提出すれば実際の生存者との比較でモデルの性能が測れるらしい。上級者になった段階でチャレンジしてみたい。今回の課題に対して、「年齢」と「性別」で「生存者」を割り出すということを目標にただただロジスティック回帰分析したが、決定木ではないのだから、標準化すべきだったし、グリッドサーチでハイパーパラメータも調整すべきだったのかもしれない。決定境界の可視化も試みてはみたが、男性、女性の性別でただ単純にわかれるだけの散布図になってしまった。（当たり前だが、性別も0と1意外の数値しかないので、散布図書くなら、説明変数は`運賃`などを選ぶべきです。）ただ分類モデルの評価の際に、`classification_report`は便利でした。  \n",
    "　最後に載せたのは`sns.load_dataset(\"titanic\")`でタイタニックデータが呼び出せるらしい。それに対しての散布図である。これによると男性で30歳の生存率は20%だったらしい。ちなみに年齢と生存率には相関はないことは`corr`調べた段階でわかってました。"
   ]
  },
  {
   "cell_type": "markdown",
   "id": "ce316b17",
   "metadata": {},
   "source": [
    "# ラビットチャレンジ/科目「機械学習」/「主成分分析」  \n",
    "\n",
    "## 100文字以上で要点のまとめ  \n",
    "\n",
    "・主成分分析(Principal Component Analysis: PCA)\n",
    "\n",
    "　多変量データの持つ構造をより少数個の指標に圧縮する。  \n",
    "　変量の個数を減らすことに伴う、情報の損失はなるべく小さくしたい  \n",
    "　少数変数を利用した分析や可視化(2・3次元の場合)が実現可能  \n",
    " \n",
    "　学習データ\n",
    "$$ x_i = (x_{i1}, x_{i2}, \\cdots, x_{im} )\\in \\mathbb{R}^m $$\n",
    "\n",
    "　平均（ベクトル）\n",
    "$$ \\bar{x}= \\frac{1}{n}\\sum_{i=1}^n x_i$$\n",
    "\n",
    "　データ行列\n",
    "$$ \\bar{X}=(x_1-\\bar{x},\\cdots,x_n-\\bar{x})^T \\in \\mathbb{R}^{n×m} $$\n",
    "\n",
    "　分散共分散行列\n",
    "$$ \\sum=Var(\\bar{X})=\\frac{1}{n}\\bar{X}^T\\bar{X} $$\n",
    "\n",
    "　線形変換後のベクトル  \n",
    "$$ s_j =(s_{1j},\\cdots,s_{nj})^T=\\bar{X}a_j　　a_j\\in\\mathbb{R}^m $$\n",
    "　＊jは射影軸のインデックス  \n",
    "\n",
    "　係数ベクトルが変われば線形変換後の値が変化  \n",
    "　情報の量を分散の大きさと捉える  \n",
    "　線形変換後の変数の分散が最大となる射影軸を探索  \n",
    "\n",
    "・線形変換後の分散\n",
    "$${a_j}^T Var(\\bar{X})a_j$$\n",
    "\n",
    "　以下の制約付き最適化問題を解く。\n",
    "　$\\lambda({a_j}^Ta_j - 1)$は、ノルムが1となるための制約条件である。制約を入れないと無限に解がある。\n",
    "\n",
    "・ラグランジュ関数  \n",
    "$$\n",
    "E(a_{ij}) = {a_j}^T Var(\\bar{X})a_j - \\lambda({a_j}^Ta_j - 1)\n",
    "$$ \n",
    "\n",
    "　ラグランジュ関数を最大にする係数ベクトルを探索（微分して0になる点）。  \n",
    "　ラグランジュ関数を微分して最適解を求める。  \n",
    "　元データの分散共分散行列の固有値・固有ベクトルが、上記の制約付き最適化問題の解となる。  \n",
    "\n",
    "・寄与率  \n",
    "　第k主成分の分散の全分散に対する割合(第k主成分が持つ情報量の割合)  \n",
    " 　固有値$\\div$固有値の合計\n",
    " \n",
    "・累積寄与率\n",
    "　第1-k主成分まで寄与率を大きい順に順次足したもの。"
   ]
  },
  {
   "cell_type": "markdown",
   "id": "ac8a583d",
   "metadata": {},
   "source": [
    "## 実装演習\n",
    "・設定  \n",
    "　乳がん検査データを利用しロジスティック回帰モデルを作成  \n",
    "　主成分を利用し2次元空間上に次元圧縮  \n",
    "・課題  \n",
    "　32次元のデータを2次元上に次元圧縮した際に、うまく判別できるかを確認  "
   ]
  },
  {
   "cell_type": "markdown",
   "id": "6743afec",
   "metadata": {},
   "source": [
    "## 主成分分析"
   ]
  },
  {
   "cell_type": "code",
   "execution_count": 39,
   "id": "5bf9492b",
   "metadata": {},
   "outputs": [],
   "source": [
    "from sklearn.datasets import load_breast_cancer\n",
    "\n",
    "load_data = load_breast_cancer()"
   ]
  },
  {
   "cell_type": "code",
   "execution_count": 40,
   "id": "82ba6523",
   "metadata": {
    "scrolled": true
   },
   "outputs": [
    {
     "name": "stdout",
     "output_type": "stream",
     "text": [
      "569\n",
      "31\n"
     ]
    },
    {
     "data": {
      "text/html": [
       "<div>\n",
       "<style scoped>\n",
       "    .dataframe tbody tr th:only-of-type {\n",
       "        vertical-align: middle;\n",
       "    }\n",
       "\n",
       "    .dataframe tbody tr th {\n",
       "        vertical-align: top;\n",
       "    }\n",
       "\n",
       "    .dataframe thead th {\n",
       "        text-align: right;\n",
       "    }\n",
       "</style>\n",
       "<table border=\"1\" class=\"dataframe\">\n",
       "  <thead>\n",
       "    <tr style=\"text-align: right;\">\n",
       "      <th></th>\n",
       "      <th>mean radius</th>\n",
       "      <th>mean texture</th>\n",
       "      <th>mean perimeter</th>\n",
       "      <th>mean area</th>\n",
       "      <th>mean smoothness</th>\n",
       "      <th>mean compactness</th>\n",
       "      <th>mean concavity</th>\n",
       "      <th>mean concave points</th>\n",
       "      <th>mean symmetry</th>\n",
       "      <th>mean fractal dimension</th>\n",
       "      <th>...</th>\n",
       "      <th>worst texture</th>\n",
       "      <th>worst perimeter</th>\n",
       "      <th>worst area</th>\n",
       "      <th>worst smoothness</th>\n",
       "      <th>worst compactness</th>\n",
       "      <th>worst concavity</th>\n",
       "      <th>worst concave points</th>\n",
       "      <th>worst symmetry</th>\n",
       "      <th>worst fractal dimension</th>\n",
       "      <th>y</th>\n",
       "    </tr>\n",
       "  </thead>\n",
       "  <tbody>\n",
       "    <tr>\n",
       "      <th>0</th>\n",
       "      <td>17.99</td>\n",
       "      <td>10.38</td>\n",
       "      <td>122.80</td>\n",
       "      <td>1001.0</td>\n",
       "      <td>0.11840</td>\n",
       "      <td>0.27760</td>\n",
       "      <td>0.3001</td>\n",
       "      <td>0.14710</td>\n",
       "      <td>0.2419</td>\n",
       "      <td>0.07871</td>\n",
       "      <td>...</td>\n",
       "      <td>17.33</td>\n",
       "      <td>184.60</td>\n",
       "      <td>2019.0</td>\n",
       "      <td>0.1622</td>\n",
       "      <td>0.6656</td>\n",
       "      <td>0.7119</td>\n",
       "      <td>0.2654</td>\n",
       "      <td>0.4601</td>\n",
       "      <td>0.11890</td>\n",
       "      <td>0</td>\n",
       "    </tr>\n",
       "    <tr>\n",
       "      <th>1</th>\n",
       "      <td>20.57</td>\n",
       "      <td>17.77</td>\n",
       "      <td>132.90</td>\n",
       "      <td>1326.0</td>\n",
       "      <td>0.08474</td>\n",
       "      <td>0.07864</td>\n",
       "      <td>0.0869</td>\n",
       "      <td>0.07017</td>\n",
       "      <td>0.1812</td>\n",
       "      <td>0.05667</td>\n",
       "      <td>...</td>\n",
       "      <td>23.41</td>\n",
       "      <td>158.80</td>\n",
       "      <td>1956.0</td>\n",
       "      <td>0.1238</td>\n",
       "      <td>0.1866</td>\n",
       "      <td>0.2416</td>\n",
       "      <td>0.1860</td>\n",
       "      <td>0.2750</td>\n",
       "      <td>0.08902</td>\n",
       "      <td>0</td>\n",
       "    </tr>\n",
       "    <tr>\n",
       "      <th>2</th>\n",
       "      <td>19.69</td>\n",
       "      <td>21.25</td>\n",
       "      <td>130.00</td>\n",
       "      <td>1203.0</td>\n",
       "      <td>0.10960</td>\n",
       "      <td>0.15990</td>\n",
       "      <td>0.1974</td>\n",
       "      <td>0.12790</td>\n",
       "      <td>0.2069</td>\n",
       "      <td>0.05999</td>\n",
       "      <td>...</td>\n",
       "      <td>25.53</td>\n",
       "      <td>152.50</td>\n",
       "      <td>1709.0</td>\n",
       "      <td>0.1444</td>\n",
       "      <td>0.4245</td>\n",
       "      <td>0.4504</td>\n",
       "      <td>0.2430</td>\n",
       "      <td>0.3613</td>\n",
       "      <td>0.08758</td>\n",
       "      <td>0</td>\n",
       "    </tr>\n",
       "    <tr>\n",
       "      <th>3</th>\n",
       "      <td>11.42</td>\n",
       "      <td>20.38</td>\n",
       "      <td>77.58</td>\n",
       "      <td>386.1</td>\n",
       "      <td>0.14250</td>\n",
       "      <td>0.28390</td>\n",
       "      <td>0.2414</td>\n",
       "      <td>0.10520</td>\n",
       "      <td>0.2597</td>\n",
       "      <td>0.09744</td>\n",
       "      <td>...</td>\n",
       "      <td>26.50</td>\n",
       "      <td>98.87</td>\n",
       "      <td>567.7</td>\n",
       "      <td>0.2098</td>\n",
       "      <td>0.8663</td>\n",
       "      <td>0.6869</td>\n",
       "      <td>0.2575</td>\n",
       "      <td>0.6638</td>\n",
       "      <td>0.17300</td>\n",
       "      <td>0</td>\n",
       "    </tr>\n",
       "    <tr>\n",
       "      <th>4</th>\n",
       "      <td>20.29</td>\n",
       "      <td>14.34</td>\n",
       "      <td>135.10</td>\n",
       "      <td>1297.0</td>\n",
       "      <td>0.10030</td>\n",
       "      <td>0.13280</td>\n",
       "      <td>0.1980</td>\n",
       "      <td>0.10430</td>\n",
       "      <td>0.1809</td>\n",
       "      <td>0.05883</td>\n",
       "      <td>...</td>\n",
       "      <td>16.67</td>\n",
       "      <td>152.20</td>\n",
       "      <td>1575.0</td>\n",
       "      <td>0.1374</td>\n",
       "      <td>0.2050</td>\n",
       "      <td>0.4000</td>\n",
       "      <td>0.1625</td>\n",
       "      <td>0.2364</td>\n",
       "      <td>0.07678</td>\n",
       "      <td>0</td>\n",
       "    </tr>\n",
       "  </tbody>\n",
       "</table>\n",
       "<p>5 rows × 31 columns</p>\n",
       "</div>"
      ],
      "text/plain": [
       "   mean radius  mean texture  mean perimeter  mean area  mean smoothness  \\\n",
       "0        17.99         10.38          122.80     1001.0          0.11840   \n",
       "1        20.57         17.77          132.90     1326.0          0.08474   \n",
       "2        19.69         21.25          130.00     1203.0          0.10960   \n",
       "3        11.42         20.38           77.58      386.1          0.14250   \n",
       "4        20.29         14.34          135.10     1297.0          0.10030   \n",
       "\n",
       "   mean compactness  mean concavity  mean concave points  mean symmetry  \\\n",
       "0           0.27760          0.3001              0.14710         0.2419   \n",
       "1           0.07864          0.0869              0.07017         0.1812   \n",
       "2           0.15990          0.1974              0.12790         0.2069   \n",
       "3           0.28390          0.2414              0.10520         0.2597   \n",
       "4           0.13280          0.1980              0.10430         0.1809   \n",
       "\n",
       "   mean fractal dimension  ...  worst texture  worst perimeter  worst area  \\\n",
       "0                 0.07871  ...          17.33           184.60      2019.0   \n",
       "1                 0.05667  ...          23.41           158.80      1956.0   \n",
       "2                 0.05999  ...          25.53           152.50      1709.0   \n",
       "3                 0.09744  ...          26.50            98.87       567.7   \n",
       "4                 0.05883  ...          16.67           152.20      1575.0   \n",
       "\n",
       "   worst smoothness  worst compactness  worst concavity  worst concave points  \\\n",
       "0            0.1622             0.6656           0.7119                0.2654   \n",
       "1            0.1238             0.1866           0.2416                0.1860   \n",
       "2            0.1444             0.4245           0.4504                0.2430   \n",
       "3            0.2098             0.8663           0.6869                0.2575   \n",
       "4            0.1374             0.2050           0.4000                0.1625   \n",
       "\n",
       "   worst symmetry  worst fractal dimension  y  \n",
       "0          0.4601                  0.11890  0  \n",
       "1          0.2750                  0.08902  0  \n",
       "2          0.3613                  0.08758  0  \n",
       "3          0.6638                  0.17300  0  \n",
       "4          0.2364                  0.07678  0  \n",
       "\n",
       "[5 rows x 31 columns]"
      ]
     },
     "metadata": {},
     "output_type": "display_data"
    }
   ],
   "source": [
    "import pandas as pd\n",
    "\n",
    "df = pd.DataFrame(load_data.data,columns = load_data.feature_names)\n",
    "df[\"y\"] = load_data.target\n",
    "\n",
    "print(len(df))\n",
    "print(len(df.columns))\n",
    "display(df.head())"
   ]
  },
  {
   "cell_type": "markdown",
   "id": "b9f8e5d8",
   "metadata": {},
   "source": [
    "実装演習の課題は32次元のデータとなっているが、これは31次元データ（うち１つはy)なのでyを除いた30次元で進めていく。これを2次元上に次元圧縮していく。scikit-learnから読み込んだからかもしれない。標準化する。"
   ]
  },
  {
   "cell_type": "code",
   "execution_count": 41,
   "id": "40860306",
   "metadata": {},
   "outputs": [
    {
     "name": "stdout",
     "output_type": "stream",
     "text": [
      "主成分の数:  30\n",
      "保たれている情報:  1.0\n"
     ]
    },
    {
     "data": {
      "text/html": [
       "<div>\n",
       "<style scoped>\n",
       "    .dataframe tbody tr th:only-of-type {\n",
       "        vertical-align: middle;\n",
       "    }\n",
       "\n",
       "    .dataframe tbody tr th {\n",
       "        vertical-align: top;\n",
       "    }\n",
       "\n",
       "    .dataframe thead th {\n",
       "        text-align: right;\n",
       "    }\n",
       "</style>\n",
       "<table border=\"1\" class=\"dataframe\">\n",
       "  <thead>\n",
       "    <tr style=\"text-align: right;\">\n",
       "      <th></th>\n",
       "      <th>PC1</th>\n",
       "      <th>PC2</th>\n",
       "      <th>PC3</th>\n",
       "      <th>PC4</th>\n",
       "      <th>PC5</th>\n",
       "      <th>PC6</th>\n",
       "      <th>PC7</th>\n",
       "      <th>PC8</th>\n",
       "      <th>PC9</th>\n",
       "      <th>PC10</th>\n",
       "      <th>...</th>\n",
       "      <th>PC21</th>\n",
       "      <th>PC22</th>\n",
       "      <th>PC23</th>\n",
       "      <th>PC24</th>\n",
       "      <th>PC25</th>\n",
       "      <th>PC26</th>\n",
       "      <th>PC27</th>\n",
       "      <th>PC28</th>\n",
       "      <th>PC29</th>\n",
       "      <th>PC30</th>\n",
       "    </tr>\n",
       "  </thead>\n",
       "  <tbody>\n",
       "    <tr>\n",
       "      <th>0</th>\n",
       "      <td>9.192837</td>\n",
       "      <td>1.948583</td>\n",
       "      <td>-1.123166</td>\n",
       "      <td>3.633731</td>\n",
       "      <td>-1.195110</td>\n",
       "      <td>1.411424</td>\n",
       "      <td>2.159370</td>\n",
       "      <td>-0.398407</td>\n",
       "      <td>-0.157118</td>\n",
       "      <td>-0.877402</td>\n",
       "      <td>...</td>\n",
       "      <td>0.096515</td>\n",
       "      <td>0.068850</td>\n",
       "      <td>0.084519</td>\n",
       "      <td>-0.175256</td>\n",
       "      <td>-0.151020</td>\n",
       "      <td>-0.201503</td>\n",
       "      <td>-0.252585</td>\n",
       "      <td>-0.033914</td>\n",
       "      <td>0.045648</td>\n",
       "      <td>-0.047169</td>\n",
       "    </tr>\n",
       "    <tr>\n",
       "      <th>1</th>\n",
       "      <td>2.387802</td>\n",
       "      <td>-3.768172</td>\n",
       "      <td>-0.529293</td>\n",
       "      <td>1.118264</td>\n",
       "      <td>0.621775</td>\n",
       "      <td>0.028656</td>\n",
       "      <td>0.013358</td>\n",
       "      <td>0.240988</td>\n",
       "      <td>-0.711905</td>\n",
       "      <td>1.106995</td>\n",
       "      <td>...</td>\n",
       "      <td>-0.077327</td>\n",
       "      <td>-0.094578</td>\n",
       "      <td>-0.217718</td>\n",
       "      <td>0.011290</td>\n",
       "      <td>-0.170510</td>\n",
       "      <td>-0.041129</td>\n",
       "      <td>0.181270</td>\n",
       "      <td>0.032624</td>\n",
       "      <td>-0.005687</td>\n",
       "      <td>-0.001868</td>\n",
       "    </tr>\n",
       "    <tr>\n",
       "      <th>2</th>\n",
       "      <td>5.733896</td>\n",
       "      <td>-1.075174</td>\n",
       "      <td>-0.551748</td>\n",
       "      <td>0.912083</td>\n",
       "      <td>-0.177086</td>\n",
       "      <td>0.541452</td>\n",
       "      <td>-0.668166</td>\n",
       "      <td>0.097374</td>\n",
       "      <td>0.024066</td>\n",
       "      <td>0.454275</td>\n",
       "      <td>...</td>\n",
       "      <td>0.311067</td>\n",
       "      <td>-0.060309</td>\n",
       "      <td>-0.074291</td>\n",
       "      <td>0.102762</td>\n",
       "      <td>0.171158</td>\n",
       "      <td>0.004735</td>\n",
       "      <td>0.049569</td>\n",
       "      <td>0.047026</td>\n",
       "      <td>0.003146</td>\n",
       "      <td>0.000751</td>\n",
       "    </tr>\n",
       "    <tr>\n",
       "      <th>3</th>\n",
       "      <td>7.122953</td>\n",
       "      <td>10.275589</td>\n",
       "      <td>-3.232790</td>\n",
       "      <td>0.152547</td>\n",
       "      <td>-2.960878</td>\n",
       "      <td>3.053422</td>\n",
       "      <td>1.429911</td>\n",
       "      <td>1.059565</td>\n",
       "      <td>-1.405440</td>\n",
       "      <td>-1.116975</td>\n",
       "      <td>...</td>\n",
       "      <td>0.434193</td>\n",
       "      <td>-0.203266</td>\n",
       "      <td>-0.124105</td>\n",
       "      <td>0.153430</td>\n",
       "      <td>0.077496</td>\n",
       "      <td>-0.275225</td>\n",
       "      <td>0.183462</td>\n",
       "      <td>0.042484</td>\n",
       "      <td>-0.069295</td>\n",
       "      <td>-0.019937</td>\n",
       "    </tr>\n",
       "    <tr>\n",
       "      <th>4</th>\n",
       "      <td>3.935302</td>\n",
       "      <td>-1.948072</td>\n",
       "      <td>1.389767</td>\n",
       "      <td>2.940639</td>\n",
       "      <td>0.546747</td>\n",
       "      <td>-1.226495</td>\n",
       "      <td>-0.936213</td>\n",
       "      <td>0.636376</td>\n",
       "      <td>-0.263805</td>\n",
       "      <td>0.377704</td>\n",
       "      <td>...</td>\n",
       "      <td>-0.116545</td>\n",
       "      <td>-0.017650</td>\n",
       "      <td>0.139454</td>\n",
       "      <td>-0.005332</td>\n",
       "      <td>0.003062</td>\n",
       "      <td>0.039254</td>\n",
       "      <td>0.032168</td>\n",
       "      <td>-0.034786</td>\n",
       "      <td>0.005038</td>\n",
       "      <td>0.021214</td>\n",
       "    </tr>\n",
       "  </tbody>\n",
       "</table>\n",
       "<p>5 rows × 30 columns</p>\n",
       "</div>"
      ],
      "text/plain": [
       "        PC1        PC2       PC3       PC4       PC5       PC6       PC7  \\\n",
       "0  9.192837   1.948583 -1.123166  3.633731 -1.195110  1.411424  2.159370   \n",
       "1  2.387802  -3.768172 -0.529293  1.118264  0.621775  0.028656  0.013358   \n",
       "2  5.733896  -1.075174 -0.551748  0.912083 -0.177086  0.541452 -0.668166   \n",
       "3  7.122953  10.275589 -3.232790  0.152547 -2.960878  3.053422  1.429911   \n",
       "4  3.935302  -1.948072  1.389767  2.940639  0.546747 -1.226495 -0.936213   \n",
       "\n",
       "        PC8       PC9      PC10  ...      PC21      PC22      PC23      PC24  \\\n",
       "0 -0.398407 -0.157118 -0.877402  ...  0.096515  0.068850  0.084519 -0.175256   \n",
       "1  0.240988 -0.711905  1.106995  ... -0.077327 -0.094578 -0.217718  0.011290   \n",
       "2  0.097374  0.024066  0.454275  ...  0.311067 -0.060309 -0.074291  0.102762   \n",
       "3  1.059565 -1.405440 -1.116975  ...  0.434193 -0.203266 -0.124105  0.153430   \n",
       "4  0.636376 -0.263805  0.377704  ... -0.116545 -0.017650  0.139454 -0.005332   \n",
       "\n",
       "       PC25      PC26      PC27      PC28      PC29      PC30  \n",
       "0 -0.151020 -0.201503 -0.252585 -0.033914  0.045648 -0.047169  \n",
       "1 -0.170510 -0.041129  0.181270  0.032624 -0.005687 -0.001868  \n",
       "2  0.171158  0.004735  0.049569  0.047026  0.003146  0.000751  \n",
       "3  0.077496 -0.275225  0.183462  0.042484 -0.069295 -0.019937  \n",
       "4  0.003062  0.039254  0.032168 -0.034786  0.005038  0.021214  \n",
       "\n",
       "[5 rows x 30 columns]"
      ]
     },
     "metadata": {},
     "output_type": "display_data"
    }
   ],
   "source": [
    "from sklearn.decomposition import PCA\n",
    "from sklearn import preprocessing\n",
    "import numpy as np\n",
    "sc = preprocessing.StandardScaler() \n",
    "X =df.iloc[:, 0:30]\n",
    "X_norm=sc.fit_transform(X)\n",
    "\n",
    "pca = PCA(random_state=0)\n",
    "X_pc = pca.fit_transform(X_norm)\n",
    "df_pca = pd.DataFrame(X_pc,columns=[\"PC{}\".format(i + 1) for i in range(len(X_pc[0]))])\n",
    "print(\"主成分の数: \" , pca.n_components_)\n",
    "print(\"保たれている情報: \" , np.sum(pca.explained_variance_ratio_))\n",
    "display(df_pca.head())"
   ]
  },
  {
   "cell_type": "markdown",
   "id": "ebb90063",
   "metadata": {},
   "source": [
    "PCAを実行して、結果である主成分得点が表示された。ここから多く情報が詰まっているPC1とPC2を使って可視化していく。"
   ]
  },
  {
   "cell_type": "code",
   "execution_count": 42,
   "id": "ae3115c8",
   "metadata": {},
   "outputs": [
    {
     "data": {
      "text/plain": [
       "<AxesSubplot:xlabel='PC1', ylabel='PC2'>"
      ]
     },
     "execution_count": 42,
     "metadata": {},
     "output_type": "execute_result"
    },
    {
     "data": {
      "image/png": "[encoded data removed]",
      "text/plain": [
       "<Figure size 432x288 with 1 Axes>"
      ]
     },
     "metadata": {},
     "output_type": "display_data"
    }
   ],
   "source": [
    "sns.scatterplot(x=\"PC1\",y=\"PC2\", data=df_pca,hue=df[\"y\"])"
   ]
  },
  {
   "cell_type": "markdown",
   "id": "d488c327",
   "metadata": {},
   "source": [
    "これで30次元あったデータをうまく2次元で可視化できました。きちんと2つに分類できています。"
   ]
  },
  {
   "cell_type": "code",
   "execution_count": 43,
   "id": "03f5abc8",
   "metadata": {},
   "outputs": [
    {
     "data": {
      "text/html": [
       "<div>\n",
       "<style scoped>\n",
       "    .dataframe tbody tr th:only-of-type {\n",
       "        vertical-align: middle;\n",
       "    }\n",
       "\n",
       "    .dataframe tbody tr th {\n",
       "        vertical-align: top;\n",
       "    }\n",
       "\n",
       "    .dataframe thead th {\n",
       "        text-align: right;\n",
       "    }\n",
       "</style>\n",
       "<table border=\"1\" class=\"dataframe\">\n",
       "  <thead>\n",
       "    <tr style=\"text-align: right;\">\n",
       "      <th></th>\n",
       "      <th>target</th>\n",
       "    </tr>\n",
       "  </thead>\n",
       "  <tbody>\n",
       "    <tr>\n",
       "      <th>0</th>\n",
       "      <td>malignant</td>\n",
       "    </tr>\n",
       "    <tr>\n",
       "      <th>1</th>\n",
       "      <td>malignant</td>\n",
       "    </tr>\n",
       "    <tr>\n",
       "      <th>2</th>\n",
       "      <td>malignant</td>\n",
       "    </tr>\n",
       "    <tr>\n",
       "      <th>3</th>\n",
       "      <td>malignant</td>\n",
       "    </tr>\n",
       "    <tr>\n",
       "      <th>4</th>\n",
       "      <td>malignant</td>\n",
       "    </tr>\n",
       "  </tbody>\n",
       "</table>\n",
       "</div>"
      ],
      "text/plain": [
       "      target\n",
       "0  malignant\n",
       "1  malignant\n",
       "2  malignant\n",
       "3  malignant\n",
       "4  malignant"
      ]
     },
     "execution_count": 43,
     "metadata": {},
     "output_type": "execute_result"
    }
   ],
   "source": [
    "y_all = pd.DataFrame(load_data[\"target\"],columns=[\"target\"])\n",
    "y_all = y_all.replace({0:load_data[\"target_names\"][0], 1:load_data[\"target_names\"][1]})\n",
    "y_all.head()"
   ]
  },
  {
   "cell_type": "markdown",
   "id": "a1609d6f",
   "metadata": {},
   "source": [
    "ここでyが何を表しているのかわからなくなったので確認。0が悪性、1が良性でした。\n",
    "次に固有値の確認をする。"
   ]
  },
  {
   "cell_type": "code",
   "execution_count": 44,
   "id": "e8123a66",
   "metadata": {},
   "outputs": [
    {
     "data": {
      "text/html": [
       "<div>\n",
       "<style scoped>\n",
       "    .dataframe tbody tr th:only-of-type {\n",
       "        vertical-align: middle;\n",
       "    }\n",
       "\n",
       "    .dataframe tbody tr th {\n",
       "        vertical-align: top;\n",
       "    }\n",
       "\n",
       "    .dataframe thead th {\n",
       "        text-align: right;\n",
       "    }\n",
       "</style>\n",
       "<table border=\"1\" class=\"dataframe\">\n",
       "  <thead>\n",
       "    <tr style=\"text-align: right;\">\n",
       "      <th></th>\n",
       "      <th>固有値</th>\n",
       "    </tr>\n",
       "  </thead>\n",
       "  <tbody>\n",
       "    <tr>\n",
       "      <th>PC1</th>\n",
       "      <td>13.30</td>\n",
       "    </tr>\n",
       "    <tr>\n",
       "      <th>PC2</th>\n",
       "      <td>5.70</td>\n",
       "    </tr>\n",
       "    <tr>\n",
       "      <th>PC3</th>\n",
       "      <td>2.82</td>\n",
       "    </tr>\n",
       "    <tr>\n",
       "      <th>PC4</th>\n",
       "      <td>1.98</td>\n",
       "    </tr>\n",
       "    <tr>\n",
       "      <th>PC5</th>\n",
       "      <td>1.65</td>\n",
       "    </tr>\n",
       "    <tr>\n",
       "      <th>PC6</th>\n",
       "      <td>1.21</td>\n",
       "    </tr>\n",
       "    <tr>\n",
       "      <th>PC7</th>\n",
       "      <td>0.68</td>\n",
       "    </tr>\n",
       "    <tr>\n",
       "      <th>PC8</th>\n",
       "      <td>0.48</td>\n",
       "    </tr>\n",
       "    <tr>\n",
       "      <th>PC9</th>\n",
       "      <td>0.42</td>\n",
       "    </tr>\n",
       "    <tr>\n",
       "      <th>PC10</th>\n",
       "      <td>0.35</td>\n",
       "    </tr>\n",
       "    <tr>\n",
       "      <th>PC11</th>\n",
       "      <td>0.29</td>\n",
       "    </tr>\n",
       "    <tr>\n",
       "      <th>PC12</th>\n",
       "      <td>0.26</td>\n",
       "    </tr>\n",
       "    <tr>\n",
       "      <th>PC13</th>\n",
       "      <td>0.24</td>\n",
       "    </tr>\n",
       "    <tr>\n",
       "      <th>PC14</th>\n",
       "      <td>0.16</td>\n",
       "    </tr>\n",
       "    <tr>\n",
       "      <th>PC15</th>\n",
       "      <td>0.09</td>\n",
       "    </tr>\n",
       "    <tr>\n",
       "      <th>PC16</th>\n",
       "      <td>0.08</td>\n",
       "    </tr>\n",
       "    <tr>\n",
       "      <th>PC17</th>\n",
       "      <td>0.06</td>\n",
       "    </tr>\n",
       "    <tr>\n",
       "      <th>PC18</th>\n",
       "      <td>0.05</td>\n",
       "    </tr>\n",
       "    <tr>\n",
       "      <th>PC19</th>\n",
       "      <td>0.05</td>\n",
       "    </tr>\n",
       "    <tr>\n",
       "      <th>PC20</th>\n",
       "      <td>0.03</td>\n",
       "    </tr>\n",
       "    <tr>\n",
       "      <th>PC21</th>\n",
       "      <td>0.03</td>\n",
       "    </tr>\n",
       "    <tr>\n",
       "      <th>PC22</th>\n",
       "      <td>0.03</td>\n",
       "    </tr>\n",
       "    <tr>\n",
       "      <th>PC23</th>\n",
       "      <td>0.02</td>\n",
       "    </tr>\n",
       "    <tr>\n",
       "      <th>PC24</th>\n",
       "      <td>0.02</td>\n",
       "    </tr>\n",
       "    <tr>\n",
       "      <th>PC25</th>\n",
       "      <td>0.02</td>\n",
       "    </tr>\n",
       "    <tr>\n",
       "      <th>PC26</th>\n",
       "      <td>0.01</td>\n",
       "    </tr>\n",
       "    <tr>\n",
       "      <th>PC27</th>\n",
       "      <td>0.01</td>\n",
       "    </tr>\n",
       "    <tr>\n",
       "      <th>PC28</th>\n",
       "      <td>0.00</td>\n",
       "    </tr>\n",
       "    <tr>\n",
       "      <th>PC29</th>\n",
       "      <td>0.00</td>\n",
       "    </tr>\n",
       "    <tr>\n",
       "      <th>PC30</th>\n",
       "      <td>0.00</td>\n",
       "    </tr>\n",
       "  </tbody>\n",
       "</table>\n",
       "</div>"
      ],
      "text/plain": [
       "        固有値\n",
       "PC1   13.30\n",
       "PC2    5.70\n",
       "PC3    2.82\n",
       "PC4    1.98\n",
       "PC5    1.65\n",
       "PC6    1.21\n",
       "PC7    0.68\n",
       "PC8    0.48\n",
       "PC9    0.42\n",
       "PC10   0.35\n",
       "PC11   0.29\n",
       "PC12   0.26\n",
       "PC13   0.24\n",
       "PC14   0.16\n",
       "PC15   0.09\n",
       "PC16   0.08\n",
       "PC17   0.06\n",
       "PC18   0.05\n",
       "PC19   0.05\n",
       "PC20   0.03\n",
       "PC21   0.03\n",
       "PC22   0.03\n",
       "PC23   0.02\n",
       "PC24   0.02\n",
       "PC25   0.02\n",
       "PC26   0.01\n",
       "PC27   0.01\n",
       "PC28   0.00\n",
       "PC29   0.00\n",
       "PC30   0.00"
      ]
     },
     "execution_count": 44,
     "metadata": {},
     "output_type": "execute_result"
    }
   ],
   "source": [
    "pd.DataFrame(np.round(pca.explained_variance_,2), index=[\"PC{}\".format(x + 1) for x in range(len(df_pca.columns))],columns=[\"固有値\"])"
   ]
  },
  {
   "cell_type": "markdown",
   "id": "bfb293d2",
   "metadata": {},
   "source": [
    "固有値のスクリーンプロットを作成。"
   ]
  },
  {
   "cell_type": "code",
   "execution_count": 45,
   "id": "de1bb6db",
   "metadata": {
    "scrolled": true
   },
   "outputs": [
    {
     "data": {
      "image/png": "[encoded data removed]",
      "text/plain": [
       "<Figure size 432x288 with 1 Axes>"
      ]
     },
     "metadata": {},
     "output_type": "display_data"
    }
   ],
   "source": [
    "line = np.ones(30)\n",
    "plt.plot(np.append(np.nan,pca.explained_variance_), \"s-\")\n",
    "plt.plot(line,\"s-\")\n",
    "plt.xlabel(\"PC\")\n",
    "plt.ylabel(\"explained_variance\")\n",
    "plt.xticks(np.arange(1, 30, 1))\n",
    "plt.grid()\n",
    "plt.show()"
   ]
  },
  {
   "cell_type": "markdown",
   "id": "1d9d6918",
   "metadata": {},
   "source": [
    "次に寄与率をみていく。"
   ]
  },
  {
   "cell_type": "code",
   "execution_count": 47,
   "id": "921982d2",
   "metadata": {
    "scrolled": true
   },
   "outputs": [
    {
     "data": {
      "text/html": [
       "<div>\n",
       "<style scoped>\n",
       "    .dataframe tbody tr th:only-of-type {\n",
       "        vertical-align: middle;\n",
       "    }\n",
       "\n",
       "    .dataframe tbody tr th {\n",
       "        vertical-align: top;\n",
       "    }\n",
       "\n",
       "    .dataframe thead th {\n",
       "        text-align: right;\n",
       "    }\n",
       "</style>\n",
       "<table border=\"1\" class=\"dataframe\">\n",
       "  <thead>\n",
       "    <tr style=\"text-align: right;\">\n",
       "      <th></th>\n",
       "      <th>寄与率</th>\n",
       "    </tr>\n",
       "  </thead>\n",
       "  <tbody>\n",
       "    <tr>\n",
       "      <th>PC1</th>\n",
       "      <td>0.44</td>\n",
       "    </tr>\n",
       "    <tr>\n",
       "      <th>PC2</th>\n",
       "      <td>0.19</td>\n",
       "    </tr>\n",
       "    <tr>\n",
       "      <th>PC3</th>\n",
       "      <td>0.09</td>\n",
       "    </tr>\n",
       "    <tr>\n",
       "      <th>PC4</th>\n",
       "      <td>0.07</td>\n",
       "    </tr>\n",
       "    <tr>\n",
       "      <th>PC5</th>\n",
       "      <td>0.05</td>\n",
       "    </tr>\n",
       "    <tr>\n",
       "      <th>PC6</th>\n",
       "      <td>0.04</td>\n",
       "    </tr>\n",
       "    <tr>\n",
       "      <th>PC7</th>\n",
       "      <td>0.02</td>\n",
       "    </tr>\n",
       "    <tr>\n",
       "      <th>PC8</th>\n",
       "      <td>0.02</td>\n",
       "    </tr>\n",
       "    <tr>\n",
       "      <th>PC9</th>\n",
       "      <td>0.01</td>\n",
       "    </tr>\n",
       "    <tr>\n",
       "      <th>PC10</th>\n",
       "      <td>0.01</td>\n",
       "    </tr>\n",
       "    <tr>\n",
       "      <th>PC11</th>\n",
       "      <td>0.01</td>\n",
       "    </tr>\n",
       "    <tr>\n",
       "      <th>PC12</th>\n",
       "      <td>0.01</td>\n",
       "    </tr>\n",
       "    <tr>\n",
       "      <th>PC13</th>\n",
       "      <td>0.01</td>\n",
       "    </tr>\n",
       "    <tr>\n",
       "      <th>PC14</th>\n",
       "      <td>0.01</td>\n",
       "    </tr>\n",
       "    <tr>\n",
       "      <th>PC15</th>\n",
       "      <td>0.00</td>\n",
       "    </tr>\n",
       "    <tr>\n",
       "      <th>PC16</th>\n",
       "      <td>0.00</td>\n",
       "    </tr>\n",
       "    <tr>\n",
       "      <th>PC17</th>\n",
       "      <td>0.00</td>\n",
       "    </tr>\n",
       "    <tr>\n",
       "      <th>PC18</th>\n",
       "      <td>0.00</td>\n",
       "    </tr>\n",
       "    <tr>\n",
       "      <th>PC19</th>\n",
       "      <td>0.00</td>\n",
       "    </tr>\n",
       "    <tr>\n",
       "      <th>PC20</th>\n",
       "      <td>0.00</td>\n",
       "    </tr>\n",
       "    <tr>\n",
       "      <th>PC21</th>\n",
       "      <td>0.00</td>\n",
       "    </tr>\n",
       "    <tr>\n",
       "      <th>PC22</th>\n",
       "      <td>0.00</td>\n",
       "    </tr>\n",
       "    <tr>\n",
       "      <th>PC23</th>\n",
       "      <td>0.00</td>\n",
       "    </tr>\n",
       "    <tr>\n",
       "      <th>PC24</th>\n",
       "      <td>0.00</td>\n",
       "    </tr>\n",
       "    <tr>\n",
       "      <th>PC25</th>\n",
       "      <td>0.00</td>\n",
       "    </tr>\n",
       "    <tr>\n",
       "      <th>PC26</th>\n",
       "      <td>0.00</td>\n",
       "    </tr>\n",
       "    <tr>\n",
       "      <th>PC27</th>\n",
       "      <td>0.00</td>\n",
       "    </tr>\n",
       "    <tr>\n",
       "      <th>PC28</th>\n",
       "      <td>0.00</td>\n",
       "    </tr>\n",
       "    <tr>\n",
       "      <th>PC29</th>\n",
       "      <td>0.00</td>\n",
       "    </tr>\n",
       "    <tr>\n",
       "      <th>PC30</th>\n",
       "      <td>0.00</td>\n",
       "    </tr>\n",
       "  </tbody>\n",
       "</table>\n",
       "</div>"
      ],
      "text/plain": [
       "       寄与率\n",
       "PC1   0.44\n",
       "PC2   0.19\n",
       "PC3   0.09\n",
       "PC4   0.07\n",
       "PC5   0.05\n",
       "PC6   0.04\n",
       "PC7   0.02\n",
       "PC8   0.02\n",
       "PC9   0.01\n",
       "PC10  0.01\n",
       "PC11  0.01\n",
       "PC12  0.01\n",
       "PC13  0.01\n",
       "PC14  0.01\n",
       "PC15  0.00\n",
       "PC16  0.00\n",
       "PC17  0.00\n",
       "PC18  0.00\n",
       "PC19  0.00\n",
       "PC20  0.00\n",
       "PC21  0.00\n",
       "PC22  0.00\n",
       "PC23  0.00\n",
       "PC24  0.00\n",
       "PC25  0.00\n",
       "PC26  0.00\n",
       "PC27  0.00\n",
       "PC28  0.00\n",
       "PC29  0.00\n",
       "PC30  0.00"
      ]
     },
     "execution_count": 47,
     "metadata": {},
     "output_type": "execute_result"
    }
   ],
   "source": [
    "pd.DataFrame(np.round(pca.explained_variance_ratio_,2), index=[\"PC{}\".format(x + 1) for x in range(len(df_pca.columns))],columns=[\"寄与率\"])"
   ]
  },
  {
   "cell_type": "code",
   "execution_count": 48,
   "id": "74b5c6c4",
   "metadata": {},
   "outputs": [
    {
     "data": {
      "image/png": "[encoded data removed]",
      "text/plain": [
       "<Figure size 432x288 with 1 Axes>"
      ]
     },
     "metadata": {},
     "output_type": "display_data"
    }
   ],
   "source": [
    "import matplotlib.ticker as ticker\n",
    "line = np.full(30,0.9)\n",
    "plt.gca().get_xaxis().set_major_locator(ticker.MaxNLocator(integer=True))\n",
    "plt.plot([0]+list(np.cumsum(pca.explained_variance_ratio_)), \"-o\")\n",
    "plt.xlabel(\"PC\")\n",
    "plt.ylabel(\"cumulative contribution rate\")\n",
    "plt.yticks(np.arange(0, 1.1, 0.1))\n",
    "plt.plot(line, \"s-\")\n",
    "plt.grid()\n",
    "plt.show()"
   ]
  },
  {
   "cell_type": "markdown",
   "id": "f8ef842a",
   "metadata": {},
   "source": [
    "累積寄与率が90%以上になるのはPC7ぐらいまで使うことになる。"
   ]
  },
  {
   "cell_type": "markdown",
   "id": "f5540cb1",
   "metadata": {},
   "source": [
    "## 課題の考察\n",
    "主成分分析をする際、今回は標準化してみた。標準化しないでも試したみたが、PC1,PC2の可視化までは同じような散布図が描けた。ただ、固有値や寄与率に関していうと標準化しない場合には明らかに色々とおかしい数値が出てきた。ただ、標準化する場合にもそれ相応のデメリットもあるらしく今後は気をつけていきたい。課題の32次元のデータを2次元上に次元圧縮した際に、うまく判別できるかを確認することに関しては累積寄与率でPC2までだと63%となるため、37%の情報損失が発生してしまうため、PC7ぐらいまで用いることが望ましい。ただ、PC1,PC2で可視化することでバイプロットやコレスポンデンス分析を用いる際の理解が深まった。  "
   ]
  },
  {
   "cell_type": "markdown",
   "id": "3ecca2e7",
   "metadata": {},
   "source": [
    "# ラビットチャレンジ\n",
    "## 科目「機械学習」/「サポートベクターマシン」\n",
    "\n",
    "・サポートベクトルマシン(SVM)  \n",
    "　2クラス分類問題のために考案されていたが、回帰問題や教師なし問題などへも応用されている。  \n",
    " \n",
    "・サポートベクトル(SV)分類  \n",
    "　2クラス分類問題を他の問題用のSVMと区別する。  \n",
    "  決定関数$f(x)=w^T{x}+b$でパラメータ$w\",\"b\"$を決定することは、適切な分類境界を決定することに対応している。 \n",
    "　線形モデルの正負で２値に分類する。  \n",
    " \n",
    "・マージン  \n",
    "　決定関数と最も近いデータ点との距離  \n",
    " \n",
    "・マージン最大化  \n",
    "  マージンが最大化となる決定関数を求めること  \n",
    "  \n",
    "・サポートベクトル  \n",
    "　分類境界に最も近いデータ$x_i$  \n",
    " \n",
    "・ハードマージン  \n",
    "　訓練データを完璧に分類できる決定関数が存在すると仮定したSV分類  \n",
    "\n",
    "・ソフトマージン  \n",
    "　ハードマージンの仮定が強すぎるため、この仮定をなくし、SV分類を分類可能でないデータに適用できるように拡張したもの。(制約条件を緩和）  \n",
    "\n",
    "この際、ハードマージンの制約条件の右辺に非負の整数を導入するがこれをスラック変数と呼ぶ。スラック変数はマージン内に入るデータや誤分類されたデータに対する誤差を表す変数である。  \n",
    " \n",
    "・主問題   \n",
    "　SVMの最適化問題のこと。一般的にSVMの分類では、この主問題と等価な双対問題を解くことで結果を導出する。  \n",
    "\n",
    "・カーネルトリック  \n",
    "　SVMを非線形分離に拡張する手法  "
   ]
  },
  {
   "cell_type": "markdown",
   "id": "3679442b",
   "metadata": {},
   "source": [
    "## 実装演習\n",
    "・設定  \n",
    "　乳がん検査データを利用し線形SVM回帰,カーネルSVMモデルを作成  \n",
    "・問題\n",
    "　上記設定の決定境界を可視化する。"
   ]
  },
  {
   "cell_type": "markdown",
   "id": "b207c5cf",
   "metadata": {},
   "source": [
    "## SVM"
   ]
  },
  {
   "cell_type": "markdown",
   "id": "61f770fb",
   "metadata": {},
   "source": [
    "分類結果をSVMで可視化することが目標なので説明変数を２カラムに絞る。"
   ]
  },
  {
   "cell_type": "code",
   "execution_count": 51,
   "id": "a29bf64a",
   "metadata": {
    "scrolled": true
   },
   "outputs": [],
   "source": [
    "tg_df = df[[\"mean radius\",\"mean texture\",\"y\"]]\n",
    "from sklearn.model_selection import train_test_split\n",
    "X =tg_df[[\"mean radius\",\"mean texture\"]]\n",
    "y=tg_df[\"y\"]\n",
    "X_train, X_test, y_train, y_test = train_test_split(X, y, test_size=0.2, random_state=0)\n",
    "from sklearn.preprocessing import StandardScaler\n",
    "scaler = StandardScaler()\n",
    "X_train_scaled = scaler.fit_transform(X_train)\n",
    "X_test_scaled =scaler.transform(X_test)"
   ]
  },
  {
   "cell_type": "code",
   "execution_count": 53,
   "id": "6caee4dd",
   "metadata": {},
   "outputs": [
    {
     "data": {
      "image/png": "[encoded data removed]",
      "text/plain": [
       "<Figure size 432x288 with 1 Axes>"
      ]
     },
     "metadata": {},
     "output_type": "display_data"
    }
   ],
   "source": [
    "from sklearn.svm import LinearSVC\n",
    "\n",
    "linear_svm = LinearSVC(random_state=0).fit(X_train_scaled,y_train)\n",
    "\n",
    "plot_decision_regions(np.array(X_train_scaled), np.array(y_train), clf=linear_svm)\n",
    "plt.show()"
   ]
  },
  {
   "cell_type": "code",
   "execution_count": 56,
   "id": "29f31ef4",
   "metadata": {},
   "outputs": [
    {
     "data": {
      "image/png": "[encoded data removed]",
      "text/plain": [
       "<Figure size 432x288 with 1 Axes>"
      ]
     },
     "metadata": {},
     "output_type": "display_data"
    }
   ],
   "source": [
    "from sklearn.svm import SVC\n",
    "kernel_svm =SVC(kernel=\"rbf\",random_state=0).fit(X_train_scaled,y_train)\n",
    "plot_decision_regions(np.array(X_train_scaled), np.array(y_train), clf=kernel_svm)\n",
    "plt.show()"
   ]
  },
  {
   "cell_type": "markdown",
   "id": "d796a1e6",
   "metadata": {},
   "source": [
    "線形SVM,非線形SVMで決定境界を作成できた。次にロジスティック回帰,k近傍法で作成する。"
   ]
  },
  {
   "cell_type": "code",
   "execution_count": 59,
   "id": "edbe5190",
   "metadata": {},
   "outputs": [
    {
     "data": {
      "image/png": "[encoded data removed]",
      "text/plain": [
       "<Figure size 432x288 with 1 Axes>"
      ]
     },
     "metadata": {},
     "output_type": "display_data"
    }
   ],
   "source": [
    "# ロジスティック回帰\n",
    "log_reg = LogisticRegression(random_state=0).fit(X_train_scaled,y_train)\n",
    "plot_decision_regions(np.array(X_train_scaled), np.array(y_train), clf=log_reg)\n",
    "plt.show()"
   ]
  },
  {
   "cell_type": "code",
   "execution_count": 62,
   "id": "0967d1b5",
   "metadata": {},
   "outputs": [
    {
     "data": {
      "image/png": "[encoded data removed]",
      "text/plain": [
       "<Figure size 432x288 with 1 Axes>"
      ]
     },
     "metadata": {},
     "output_type": "display_data"
    }
   ],
   "source": [
    "#k近傍法\n",
    "from sklearn.neighbors import KNeighborsClassifier\n",
    "kn_cls =KNeighborsClassifier(n_neighbors=5,p=2).fit(X_train_scaled,y_train)\n",
    "plot_decision_regions(np.array(X_train_scaled), np.array(y_train), clf=kn_cls)\n",
    "plt.show()"
   ]
  },
  {
   "cell_type": "markdown",
   "id": "bd09ef27",
   "metadata": {},
   "source": [
    "## 課題の考察\n",
    "\n",
    "ロジスティック回帰と線形SVMは似ている。比較した際にSVMの方がデータの外れ値の影響を受けていない。これがSVMの利点かと思われる。\n",
    "線形分離できないデータの分類の際には、カーネルSVMが有効であることもわかった。SVMの精度はCやgammaなどのハイパーパラメータチューニングに大きく依存するとのことなので、色々試していく必要がある。k近傍法は計算コストが高く予測を出すのに一番時間がかかった。ただ、モデルの解釈が非常に容易だというメリットもある。"
   ]
  }
 ],
 "metadata": {
  "kernelspec": {
   "display_name": "Python 3",
   "language": "python",
   "name": "python3"
  },
  "language_info": {
   "codemirror_mode": {
    "name": "ipython",
    "version": 3
   },
   "file_extension": ".py",
   "mimetype": "text/x-python",
   "name": "python",
   "nbconvert_exporter": "python",
   "pygments_lexer": "ipython3",
   "version": "3.8.8"
  }
 },
 "nbformat": 4,
 "nbformat_minor": 5
}
